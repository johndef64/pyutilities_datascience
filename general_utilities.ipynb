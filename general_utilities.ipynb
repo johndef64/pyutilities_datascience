{
 "cells": [
  {
   "cell_type": "markdown",
   "source": [
    "# General Utilities"
   ],
   "metadata": {
    "collapsed": false
   }
  },
  {
   "cell_type": "code",
   "execution_count": 1,
   "outputs": [],
   "source": [
    "import os\n",
    "import io\n",
    "import zipfile\n",
    "import requests\n",
    "\n",
    "def simple_bool(message):\n",
    "    choose = input(message+\" (y/n): \").lower()\n",
    "    your_bool = choose in [\"y\", \"yes\",\"yea\",\"sure\"]\n",
    "    return your_bool"
   ],
   "metadata": {
    "collapsed": false
   }
  },
  {
   "cell_type": "markdown",
   "source": [
    "# def: Downloaders"
   ],
   "metadata": {
    "collapsed": false
   }
  },
  {
   "cell_type": "code",
   "execution_count": 1,
   "outputs": [],
   "source": [
    "import os\n",
    "import io\n",
    "import requests\n",
    "\n",
    "# git clone\n",
    "def git_clone(repo_url, save_dir = os.getcwd()):\n",
    "    cmd = f'git clone {repo_url} {save_dir}'\n",
    "    os.system(cmd)\n",
    "\n",
    "def git_clone_sub(repo_url,sub ,save_dir = os.getcwd()+'\\\\temp\\\\'):\n",
    "    cmd = f'git clone {repo_url} {save_dir}'\n",
    "    os.system(cmd)\n",
    "    # specify original path and destination path\n",
    "    original_path = save_dir + sub\n",
    "    destination_path = os.path.join(os.getcwd(), sub)\n",
    "    os.rename(original_path, destination_path)\n",
    "    delete = f'rmdir /s /q  {save_dir}'\n",
    "    os.system(delete)\n",
    "    print(save_dir)\n",
    "\n",
    "# Simple Downloader\n",
    "def get_file(url, file_name, dir = os.getcwd()):\n",
    "    response = requests.get(url)\n",
    "    if response.status_code == 200:\n",
    "        content = response.content\n",
    "        file_path = os.path.join(dir, file_name)\n",
    "        with open(file_path, 'wb') as file:\n",
    "            file.write(content)\n",
    "        print(f\"File downloaded successfully. Saved as {file_name}\")\n",
    "    else:\n",
    "        print(\"Unable to download the file.\")\n",
    "\n",
    "# Download single GitHub file from repository\n",
    "def get_gitfile(url, flag='', dir = os.getcwd()):\n",
    "    url = url.replace('blob','raw')\n",
    "    response = requests.get(url)\n",
    "    file_name = flag + url.rsplit('/',1)[1]\n",
    "    file_path = os.path.join(dir, file_name)\n",
    "    if response.status_code == 200:\n",
    "        with open(file_path, 'wb') as file:\n",
    "            file.write(response.content)\n",
    "        print(f\"File downloaded successfully. Saved as {file_name}\")\n",
    "    else:\n",
    "        print(\"Unable to download the file.\")\n",
    "\n",
    "# Download and Exrtact zip file from Zenodo\n",
    "def get_and_extract_zenodo(file, dir = os.getcwd(), ext = '.zip'):\n",
    "    url='https://zenodo.org/record/8205724/files/'+file+'.zip?download=1'\n",
    "    zip_file_name = file+ext\n",
    "    extracted_folder_name = dir\n",
    "    # Download the ZIP file\n",
    "    response = requests.get(url)\n",
    "    if response.status_code == 200:\n",
    "        # Extract the ZIP contents\n",
    "        with io.BytesIO(response.content) as zip_buffer:\n",
    "            with zipfile.ZipFile(zip_buffer, 'r') as zip_ref:\n",
    "                zip_ref.extractall(extracted_folder_name)\n",
    "        print(f\"ZIP file '{zip_file_name}' extracted to '{extracted_folder_name}' successfully.\")\n",
    "    else:\n",
    "        print(\"Failed to download the ZIP file.\")"
   ],
   "metadata": {
    "collapsed": false
   }
  },
  {
   "cell_type": "code",
   "execution_count": 145,
   "outputs": [
    {
     "name": "stdout",
     "output_type": "stream",
     "text": [
      "C:\\Users\\giova\\Documents\\GitHub\\pyutilities_datascience\\temp\\\n"
     ]
    }
   ],
   "source": [
    "Downloader.git_clone_sub('https://github.com/johndef64/pychatgpt.git', 'bash-gpt')"
   ],
   "metadata": {
    "collapsed": false
   }
  },
  {
   "cell_type": "code",
   "execution_count": 143,
   "outputs": [
    {
     "ename": "FileNotFoundError",
     "evalue": "[WinError 2] Impossibile trovare il file specificato: 'C:\\\\Users\\\\giova\\\\Documents\\\\GitHub\\\\pyutilities_datascience\\\\temp/starfish' -> 'C:\\\\Users\\\\giova\\\\Documents\\\\GitHub\\\\pyutilities_datascience\\\\starfish'",
     "output_type": "error",
     "traceback": [
      "\u001B[1;31m---------------------------------------------------------------------------\u001B[0m",
      "\u001B[1;31mFileNotFoundError\u001B[0m                         Traceback (most recent call last)",
      "Cell \u001B[1;32mIn[143], line 1\u001B[0m\n\u001B[1;32m----> 1\u001B[0m \u001B[43mDownloaders\u001B[49m\u001B[38;5;241;43m.\u001B[39;49m\u001B[43mgit_clone_sub\u001B[49m\u001B[43m(\u001B[49m\u001B[38;5;124;43m'\u001B[39;49m\u001B[38;5;124;43mhttps://github.com/spacetx/starfish.git\u001B[39;49m\u001B[38;5;124;43m'\u001B[39;49m\u001B[43m,\u001B[49m\u001B[38;5;124;43m'\u001B[39;49m\u001B[38;5;124;43mstarfish\u001B[39;49m\u001B[38;5;124;43m'\u001B[39;49m\u001B[43m)\u001B[49m\n",
      "Cell \u001B[1;32mIn[141], line 17\u001B[0m, in \u001B[0;36mDownloaders.git_clone_sub\u001B[1;34m(repo_url, sub, save_dir)\u001B[0m\n\u001B[0;32m     15\u001B[0m original_path \u001B[38;5;241m=\u001B[39m save_dir \u001B[38;5;241m+\u001B[39m sub\n\u001B[0;32m     16\u001B[0m destination_path \u001B[38;5;241m=\u001B[39m os\u001B[38;5;241m.\u001B[39mpath\u001B[38;5;241m.\u001B[39mjoin(os\u001B[38;5;241m.\u001B[39mgetcwd(), sub)\n\u001B[1;32m---> 17\u001B[0m \u001B[43mos\u001B[49m\u001B[38;5;241;43m.\u001B[39;49m\u001B[43mrename\u001B[49m\u001B[43m(\u001B[49m\u001B[43moriginal_path\u001B[49m\u001B[43m,\u001B[49m\u001B[43m \u001B[49m\u001B[43mdestination_path\u001B[49m\u001B[43m)\u001B[49m\n\u001B[0;32m     18\u001B[0m delete \u001B[38;5;241m=\u001B[39m \u001B[38;5;124mf\u001B[39m\u001B[38;5;124m'\u001B[39m\u001B[38;5;124mrmdir /s /q  \u001B[39m\u001B[38;5;132;01m{\u001B[39;00msave_dir\u001B[38;5;132;01m}\u001B[39;00m\u001B[38;5;124m'\u001B[39m\n\u001B[0;32m     19\u001B[0m os\u001B[38;5;241m.\u001B[39msystem(delete)\n",
      "\u001B[1;31mFileNotFoundError\u001B[0m: [WinError 2] Impossibile trovare il file specificato: 'C:\\\\Users\\\\giova\\\\Documents\\\\GitHub\\\\pyutilities_datascience\\\\temp/starfish' -> 'C:\\\\Users\\\\giova\\\\Documents\\\\GitHub\\\\pyutilities_datascience\\\\starfish'"
     ]
    }
   ],
   "source": [
    "Downloader.git_clone_sub('https://github.com/spacetx/starfish.git','starfish')"
   ],
   "metadata": {
    "collapsed": false
   }
  },
  {
   "cell_type": "code",
   "execution_count": 101,
   "outputs": [],
   "source": [
    "Downloader.git_clone('https://github.com/johndef64/pychatgpt.git', r'C:\\Users\\giova\\Documents\\GitHub\\pyutilities_datascience\\newrepo')"
   ],
   "metadata": {
    "collapsed": false
   }
  },
  {
   "cell_type": "markdown",
   "source": [
    "# CSV Datasets"
   ],
   "metadata": {
    "collapsed": false
   }
  },
  {
   "cell_type": "code",
   "execution_count": 33,
   "outputs": [
    {
     "name": "stdout",
     "output_type": "stream",
     "text": [
      "File downloaded successfully. Saved as base_pokemon.csv\n",
      "File downloaded successfully. Saved as go_pokemon.csv\n",
      "File downloaded successfully. Saved as H_GENES_proteincoding_genes.csv\n"
     ]
    }
   ],
   "source": [
    "# Download the file\n",
    "file1 = \"https://github.com/SeniorMars/pokemon-csv/blob/master/pokemon.csv\"\n",
    "file2 = \"https://github.com/zehnzwanzig/PokemonGo_CSV/blob/master/pokemon.csv\"\n",
    "file3 = 'https://github.com/johndef64/GRPM_system/blob/main/human_genes_repo/H_GENES_proteincoding_genes.csv'\n",
    "\n",
    "Downloader.get_gitfile(file1, 'base_')\n",
    "Downloader.get_gitfile(file2, 'go_'  )\n",
    "Downloader.get_gitfile(file3)"
   ],
   "metadata": {
    "collapsed": false
   }
  },
  {
   "cell_type": "code",
   "execution_count": 20,
   "outputs": [
    {
     "name": "stdout",
     "output_type": "stream",
     "text": [
      "File downloaded successfully. Saved as gagaulala.csv\n"
     ]
    }
   ],
   "source": [
    "Downloader.get_file(file1,'gagaulala.csv')"
   ],
   "metadata": {
    "collapsed": false
   }
  },
  {
   "cell_type": "markdown",
   "source": [
    "# def: File Operartions"
   ],
   "metadata": {
    "collapsed": false
   }
  },
  {
   "cell_type": "code",
   "execution_count": 56,
   "outputs": [
    {
     "name": "stdout",
     "output_type": "stream",
     "text": [
      "Available .csv files:\n",
      "0       base_pokemon.csv\n",
      "1         go_pokemon.csv\n",
      "2      special_issue.csv\n",
      "3    special_issue_2.csv\n",
      "dtype: object\n",
      "File H_GENES_proteincoding_genes.csv not found.\n"
     ]
    }
   ],
   "source": [
    "import os\n",
    "import glob\n",
    "import pandas as pd\n",
    "\n",
    "# Check files in folder (with extension)\n",
    "def file_display(ext, contains='', path=os.getcwd()):\n",
    "    file_pattern = os.path.join(path, \"*.\"+ext)\n",
    "    files = glob.glob(file_pattern)\n",
    "    files_name = []\n",
    "    for file in files:\n",
    "        file_name = os.path.basename(file)\n",
    "        files_name.append(file_name)\n",
    "\n",
    "    print('Available .'+ext+' files:')\n",
    "    files_df = pd.Series(files_name)\n",
    "    file = files_df[files_df.str.contains(contains)]\n",
    "    print(file)\n",
    "\n",
    "def file_display_subfolders(folder_path=os.getcwd()):\n",
    "    subfolders = [f.name for f in os.scandir(folder_path) if f.is_dir()]\n",
    "    print(\"Subfolders in\", folder_path, \":\")\n",
    "    for subfolder in subfolders:\n",
    "        print(subfolder)\n",
    "\n",
    "def file_get_subfolders(folder_path=os.getcwd()):\n",
    "    subfolders = [f.name for f in os.scandir(folder_path) if f.is_dir()]\n",
    "    return subfolders\n",
    "\n",
    "def file_get_files(ext, contains='', path=os.getcwd()):\n",
    "    file_pattern = os.path.join(path, \"*.\"+ext)\n",
    "    files = glob.glob(file_pattern)\n",
    "    files_name = []\n",
    "    for file in files:\n",
    "        file_name = os.path.basename(file)\n",
    "        files_name.append(file_name)\n",
    "    filtered_file = [item for item in files_name if isinstance(item, str) and contains in item]\n",
    "    return filtered_file\n",
    "\n",
    "def file_get_files_pd(ext, contains='', path=os.getcwd()):\n",
    "    # Create a file path pattern to match 'ext' files\n",
    "    file_pattern = os.path.join(path, \"*.\"+ext)\n",
    "    # Use glob to get a list of file paths matching the pattern\n",
    "    files = glob.glob(file_pattern)\n",
    "    files_name = []\n",
    "    # Get the list of 'ext' files\n",
    "    for file in files:\n",
    "        file_name = os.path.basename(file)\n",
    "        files_name.append(file_name)\n",
    "    files_sr = pd.Series(files_name)\n",
    "    filtered_file = files_sr[files_sr.str.contains(contains)]\n",
    "    return pd.Series(filtered_file)\n",
    "\n",
    "def file_delete(filename, path=os.getcwd()):\n",
    "    try:\n",
    "        os.remove(os.path.join(path, filename))\n",
    "        print(f\"File {filename} deleted successfully.\")\n",
    "    except FileNotFoundError:\n",
    "        print(f\"File {filename} not found.\")\n",
    "    except PermissionError:\n",
    "        print(f\"Permission denied.\")\n",
    "    except Exception as e:\n",
    "        print(f\"Unable to delete file {filename}. Error: {str(e)}\")\n",
    "\n",
    "file_display('csv')\n",
    "file_delete('H_GENES_proteincoding_genes.csv')"
   ],
   "metadata": {
    "collapsed": false
   }
  },
  {
   "cell_type": "markdown",
   "source": [
    "# Display CSV"
   ],
   "metadata": {
    "collapsed": false
   }
  },
  {
   "cell_type": "code",
   "execution_count": 3,
   "outputs": [
    {
     "data": {
      "text/plain": "       # NAME_ENGLISH NAME_GERMAN    NAME_FRENCH   NAME_JAPAN    NAME_KOREAN  \\\n0      1    Bulbasaur     Bisasam     Bulbizarre  Fushigidane    Isanghaessi   \n1      2      Ivysaur   Bisaknosp     Herbizarre   Fushigisou    Isanghaepul   \n2      3     Venusaur    Bisaflor     Florizarre  Fushigibana   Isanghaekkot   \n3      4   Charmander    Glumanda      Salamèche     Hitokage          Pairi   \n4      5   Charmeleon     Glutexo      Reptincel      Lizardo        Rijadeu   \n..   ...          ...         ...            ...          ...            ...   \n837  805    Stakataka    Muramura       Ama-Ama   Tundetunde   Chagogchagog    \n838  806  Blacephalon   Kopplosio  Pierroteknik     Zugadoon       Dupapang    \n839  807      Zeraora     Zeraora       Zeraora      Zeraora        Jeraora    \n840  808       Meltan      Meltan        Meltan      Merutan         Meltan    \n841  809     Melmetal    Melmetal       Melmetal  Merumetaru       Melmetal    \n\n         TYP1    TYP2  GENERATION  CANDY  BUDDY_DISTANCE  MAX_HP  MAX_ATT  \\\n0       Grass  Poison         1.0   25.0             3.0   128.0    118.0   \n1       Grass  Poison         1.0  100.0             3.0   155.0    151.0   \n2       Grass  Poison         1.0    NaN             3.0   190.0    198.0   \n3        Fire     NaN         1.0   25.0             3.0   118.0    116.0   \n4        Fire     NaN         1.0  100.0             3.0   151.0    158.0   \n..        ...     ...         ...    ...             ...     ...      ...   \n837      Rock   Steel         7.0    NaN             NaN     NaN      NaN   \n838      Fire   Ghost         7.0    NaN             NaN     NaN      NaN   \n839  Electric     NaN         7.0    NaN             NaN     NaN      NaN   \n840     Steel     NaN         7.0  400.0            20.0   130.0    112.0   \n841     Steel     NaN         7.0    NaN            20.0   264.0    231.0   \n\n     MAX_DEF  MAX_CP CATCH_RATE ESCAPE_RATE SHINY       ICON_PATH  \\\n0      111.0  1115.0    20,00 %     10,00 %   Yes  ./icon/001.png   \n1      143.0  1699.0    10,00 %      7,00 %   Yes  ./icon/002.png   \n2      189.0  2720.0     5,00 %      5,00 %   Yes  ./icon/003.png   \n3       93.0   980.0    20,00 %     10,00 %   Yes  ./icon/004.png   \n4      126.0  1653.0    10,00 %      7,00 %   Yes  ./icon/005.png   \n..       ...     ...        ...         ...   ...             ...   \n837      NaN     NaN        NaN         NaN   NaN  ./icon/805.png   \n838      NaN     NaN        NaN         NaN   NaN  ./icon/806.png   \n839      NaN     NaN        NaN         NaN   NaN  ./icon/807.png   \n840    113.0  1080.0    30,00 %         NaN    No  ./icon/808.png   \n841    213.0  3875.0    30,00 %         NaN    No  ./icon/809.png   \n\n           SPRITE_PATH  \n0    ./sprites/001.png  \n1    ./sprites/002.png  \n2    ./sprites/003.png  \n3    ./sprites/004.png  \n4    ./sprites/005.png  \n..                 ...  \n837                NaN  \n838                NaN  \n839                NaN  \n840  ./sprites/808.png  \n841  ./sprites/809.png  \n\n[842 rows x 20 columns]",
      "text/html": "<div>\n<style scoped>\n    .dataframe tbody tr th:only-of-type {\n        vertical-align: middle;\n    }\n\n    .dataframe tbody tr th {\n        vertical-align: top;\n    }\n\n    .dataframe thead th {\n        text-align: right;\n    }\n</style>\n<table border=\"1\" class=\"dataframe\">\n  <thead>\n    <tr style=\"text-align: right;\">\n      <th></th>\n      <th>#</th>\n      <th>NAME_ENGLISH</th>\n      <th>NAME_GERMAN</th>\n      <th>NAME_FRENCH</th>\n      <th>NAME_JAPAN</th>\n      <th>NAME_KOREAN</th>\n      <th>TYP1</th>\n      <th>TYP2</th>\n      <th>GENERATION</th>\n      <th>CANDY</th>\n      <th>BUDDY_DISTANCE</th>\n      <th>MAX_HP</th>\n      <th>MAX_ATT</th>\n      <th>MAX_DEF</th>\n      <th>MAX_CP</th>\n      <th>CATCH_RATE</th>\n      <th>ESCAPE_RATE</th>\n      <th>SHINY</th>\n      <th>ICON_PATH</th>\n      <th>SPRITE_PATH</th>\n    </tr>\n  </thead>\n  <tbody>\n    <tr>\n      <th>0</th>\n      <td>1</td>\n      <td>Bulbasaur</td>\n      <td>Bisasam</td>\n      <td>Bulbizarre</td>\n      <td>Fushigidane</td>\n      <td>Isanghaessi</td>\n      <td>Grass</td>\n      <td>Poison</td>\n      <td>1.0</td>\n      <td>25.0</td>\n      <td>3.0</td>\n      <td>128.0</td>\n      <td>118.0</td>\n      <td>111.0</td>\n      <td>1115.0</td>\n      <td>20,00 %</td>\n      <td>10,00 %</td>\n      <td>Yes</td>\n      <td>./icon/001.png</td>\n      <td>./sprites/001.png</td>\n    </tr>\n    <tr>\n      <th>1</th>\n      <td>2</td>\n      <td>Ivysaur</td>\n      <td>Bisaknosp</td>\n      <td>Herbizarre</td>\n      <td>Fushigisou</td>\n      <td>Isanghaepul</td>\n      <td>Grass</td>\n      <td>Poison</td>\n      <td>1.0</td>\n      <td>100.0</td>\n      <td>3.0</td>\n      <td>155.0</td>\n      <td>151.0</td>\n      <td>143.0</td>\n      <td>1699.0</td>\n      <td>10,00 %</td>\n      <td>7,00 %</td>\n      <td>Yes</td>\n      <td>./icon/002.png</td>\n      <td>./sprites/002.png</td>\n    </tr>\n    <tr>\n      <th>2</th>\n      <td>3</td>\n      <td>Venusaur</td>\n      <td>Bisaflor</td>\n      <td>Florizarre</td>\n      <td>Fushigibana</td>\n      <td>Isanghaekkot</td>\n      <td>Grass</td>\n      <td>Poison</td>\n      <td>1.0</td>\n      <td>NaN</td>\n      <td>3.0</td>\n      <td>190.0</td>\n      <td>198.0</td>\n      <td>189.0</td>\n      <td>2720.0</td>\n      <td>5,00 %</td>\n      <td>5,00 %</td>\n      <td>Yes</td>\n      <td>./icon/003.png</td>\n      <td>./sprites/003.png</td>\n    </tr>\n    <tr>\n      <th>3</th>\n      <td>4</td>\n      <td>Charmander</td>\n      <td>Glumanda</td>\n      <td>Salamèche</td>\n      <td>Hitokage</td>\n      <td>Pairi</td>\n      <td>Fire</td>\n      <td>NaN</td>\n      <td>1.0</td>\n      <td>25.0</td>\n      <td>3.0</td>\n      <td>118.0</td>\n      <td>116.0</td>\n      <td>93.0</td>\n      <td>980.0</td>\n      <td>20,00 %</td>\n      <td>10,00 %</td>\n      <td>Yes</td>\n      <td>./icon/004.png</td>\n      <td>./sprites/004.png</td>\n    </tr>\n    <tr>\n      <th>4</th>\n      <td>5</td>\n      <td>Charmeleon</td>\n      <td>Glutexo</td>\n      <td>Reptincel</td>\n      <td>Lizardo</td>\n      <td>Rijadeu</td>\n      <td>Fire</td>\n      <td>NaN</td>\n      <td>1.0</td>\n      <td>100.0</td>\n      <td>3.0</td>\n      <td>151.0</td>\n      <td>158.0</td>\n      <td>126.0</td>\n      <td>1653.0</td>\n      <td>10,00 %</td>\n      <td>7,00 %</td>\n      <td>Yes</td>\n      <td>./icon/005.png</td>\n      <td>./sprites/005.png</td>\n    </tr>\n    <tr>\n      <th>...</th>\n      <td>...</td>\n      <td>...</td>\n      <td>...</td>\n      <td>...</td>\n      <td>...</td>\n      <td>...</td>\n      <td>...</td>\n      <td>...</td>\n      <td>...</td>\n      <td>...</td>\n      <td>...</td>\n      <td>...</td>\n      <td>...</td>\n      <td>...</td>\n      <td>...</td>\n      <td>...</td>\n      <td>...</td>\n      <td>...</td>\n      <td>...</td>\n      <td>...</td>\n    </tr>\n    <tr>\n      <th>837</th>\n      <td>805</td>\n      <td>Stakataka</td>\n      <td>Muramura</td>\n      <td>Ama-Ama</td>\n      <td>Tundetunde</td>\n      <td>Chagogchagog</td>\n      <td>Rock</td>\n      <td>Steel</td>\n      <td>7.0</td>\n      <td>NaN</td>\n      <td>NaN</td>\n      <td>NaN</td>\n      <td>NaN</td>\n      <td>NaN</td>\n      <td>NaN</td>\n      <td>NaN</td>\n      <td>NaN</td>\n      <td>NaN</td>\n      <td>./icon/805.png</td>\n      <td>NaN</td>\n    </tr>\n    <tr>\n      <th>838</th>\n      <td>806</td>\n      <td>Blacephalon</td>\n      <td>Kopplosio</td>\n      <td>Pierroteknik</td>\n      <td>Zugadoon</td>\n      <td>Dupapang</td>\n      <td>Fire</td>\n      <td>Ghost</td>\n      <td>7.0</td>\n      <td>NaN</td>\n      <td>NaN</td>\n      <td>NaN</td>\n      <td>NaN</td>\n      <td>NaN</td>\n      <td>NaN</td>\n      <td>NaN</td>\n      <td>NaN</td>\n      <td>NaN</td>\n      <td>./icon/806.png</td>\n      <td>NaN</td>\n    </tr>\n    <tr>\n      <th>839</th>\n      <td>807</td>\n      <td>Zeraora</td>\n      <td>Zeraora</td>\n      <td>Zeraora</td>\n      <td>Zeraora</td>\n      <td>Jeraora</td>\n      <td>Electric</td>\n      <td>NaN</td>\n      <td>7.0</td>\n      <td>NaN</td>\n      <td>NaN</td>\n      <td>NaN</td>\n      <td>NaN</td>\n      <td>NaN</td>\n      <td>NaN</td>\n      <td>NaN</td>\n      <td>NaN</td>\n      <td>NaN</td>\n      <td>./icon/807.png</td>\n      <td>NaN</td>\n    </tr>\n    <tr>\n      <th>840</th>\n      <td>808</td>\n      <td>Meltan</td>\n      <td>Meltan</td>\n      <td>Meltan</td>\n      <td>Merutan</td>\n      <td>Meltan</td>\n      <td>Steel</td>\n      <td>NaN</td>\n      <td>7.0</td>\n      <td>400.0</td>\n      <td>20.0</td>\n      <td>130.0</td>\n      <td>112.0</td>\n      <td>113.0</td>\n      <td>1080.0</td>\n      <td>30,00 %</td>\n      <td>NaN</td>\n      <td>No</td>\n      <td>./icon/808.png</td>\n      <td>./sprites/808.png</td>\n    </tr>\n    <tr>\n      <th>841</th>\n      <td>809</td>\n      <td>Melmetal</td>\n      <td>Melmetal</td>\n      <td>Melmetal</td>\n      <td>Merumetaru</td>\n      <td>Melmetal</td>\n      <td>Steel</td>\n      <td>NaN</td>\n      <td>7.0</td>\n      <td>NaN</td>\n      <td>20.0</td>\n      <td>264.0</td>\n      <td>231.0</td>\n      <td>213.0</td>\n      <td>3875.0</td>\n      <td>30,00 %</td>\n      <td>NaN</td>\n      <td>No</td>\n      <td>./icon/809.png</td>\n      <td>./sprites/809.png</td>\n    </tr>\n  </tbody>\n</table>\n<p>842 rows × 20 columns</p>\n</div>"
     },
     "metadata": {},
     "output_type": "display_data"
    },
    {
     "data": {
      "text/plain": "         #           Name    Type 1  Type 2  Total   HP  Attack  Defense  \\\n0      1.0      Bulbasaur     Grass  Poison    318   45      49       49   \n1      2.0        Ivysaur     Grass  Poison    405   60      62       63   \n2      3.0       Venusaur     Grass  Poison    525   80      82       83   \n3      3.1  Mega Venusaur     Grass  Poison    625   80     100      123   \n4      4.0     Charmander      Fire     NaN    309   39      52       43   \n..     ...            ...       ...     ...    ...  ...     ...      ...   \n928  805.0      Stakataka      Rock   Steel    570   61     131      211   \n929  806.0    Blacephalon      Fire   Ghost    570   53     127       53   \n930  807.0        Zeraora  Electric     NaN    600   88     112       75   \n931  808.0         Meltan     Steel     NaN    300   65      46       65   \n932  809.0       Melmetal     Steel     NaN    600  135     143      143   \n\n     Sp. Atk  Sp. Def  Speed     Ability1     Ability2 Ability3  Generation  \\\n0         65       65     45     Overgrow  Chlorophyll      NaN           1   \n1         80       80     60     Overgrow  Chlorophyll      NaN           1   \n2        100      100     80     Overgrow  Chlorophyll      NaN           1   \n3        122      120     80    Thick Fat          NaN      NaN           1   \n4         60       50     65        Blaze  Solar Power      NaN           1   \n..       ...      ...    ...          ...          ...      ...         ...   \n928       53      101     13  Beast Boost          NaN      NaN           7   \n929      151       79    107  Beast Boost          NaN      NaN           7   \n930      102       80    143  Volt Absorb          NaN      NaN           7   \n931       55       35     34  Magnet Pull          NaN      NaN           7   \n932       80       65     34    Iron Fist          NaN      NaN           7   \n\n    Legendary  Mythical  \n0       FALSE     False  \n1       FALSE     False  \n2       FALSE     False  \n3       FALSE     False  \n4       FALSE     False  \n..        ...       ...  \n928     FALSE     False  \n929     FALSE     False  \n930      TRUE      True  \n931      TRUE      True  \n932      TRUE      True  \n\n[933 rows x 17 columns]",
      "text/html": "<div>\n<style scoped>\n    .dataframe tbody tr th:only-of-type {\n        vertical-align: middle;\n    }\n\n    .dataframe tbody tr th {\n        vertical-align: top;\n    }\n\n    .dataframe thead th {\n        text-align: right;\n    }\n</style>\n<table border=\"1\" class=\"dataframe\">\n  <thead>\n    <tr style=\"text-align: right;\">\n      <th></th>\n      <th>#</th>\n      <th>Name</th>\n      <th>Type 1</th>\n      <th>Type 2</th>\n      <th>Total</th>\n      <th>HP</th>\n      <th>Attack</th>\n      <th>Defense</th>\n      <th>Sp. Atk</th>\n      <th>Sp. Def</th>\n      <th>Speed</th>\n      <th>Ability1</th>\n      <th>Ability2</th>\n      <th>Ability3</th>\n      <th>Generation</th>\n      <th>Legendary</th>\n      <th>Mythical</th>\n    </tr>\n  </thead>\n  <tbody>\n    <tr>\n      <th>0</th>\n      <td>1.0</td>\n      <td>Bulbasaur</td>\n      <td>Grass</td>\n      <td>Poison</td>\n      <td>318</td>\n      <td>45</td>\n      <td>49</td>\n      <td>49</td>\n      <td>65</td>\n      <td>65</td>\n      <td>45</td>\n      <td>Overgrow</td>\n      <td>Chlorophyll</td>\n      <td>NaN</td>\n      <td>1</td>\n      <td>FALSE</td>\n      <td>False</td>\n    </tr>\n    <tr>\n      <th>1</th>\n      <td>2.0</td>\n      <td>Ivysaur</td>\n      <td>Grass</td>\n      <td>Poison</td>\n      <td>405</td>\n      <td>60</td>\n      <td>62</td>\n      <td>63</td>\n      <td>80</td>\n      <td>80</td>\n      <td>60</td>\n      <td>Overgrow</td>\n      <td>Chlorophyll</td>\n      <td>NaN</td>\n      <td>1</td>\n      <td>FALSE</td>\n      <td>False</td>\n    </tr>\n    <tr>\n      <th>2</th>\n      <td>3.0</td>\n      <td>Venusaur</td>\n      <td>Grass</td>\n      <td>Poison</td>\n      <td>525</td>\n      <td>80</td>\n      <td>82</td>\n      <td>83</td>\n      <td>100</td>\n      <td>100</td>\n      <td>80</td>\n      <td>Overgrow</td>\n      <td>Chlorophyll</td>\n      <td>NaN</td>\n      <td>1</td>\n      <td>FALSE</td>\n      <td>False</td>\n    </tr>\n    <tr>\n      <th>3</th>\n      <td>3.1</td>\n      <td>Mega Venusaur</td>\n      <td>Grass</td>\n      <td>Poison</td>\n      <td>625</td>\n      <td>80</td>\n      <td>100</td>\n      <td>123</td>\n      <td>122</td>\n      <td>120</td>\n      <td>80</td>\n      <td>Thick Fat</td>\n      <td>NaN</td>\n      <td>NaN</td>\n      <td>1</td>\n      <td>FALSE</td>\n      <td>False</td>\n    </tr>\n    <tr>\n      <th>4</th>\n      <td>4.0</td>\n      <td>Charmander</td>\n      <td>Fire</td>\n      <td>NaN</td>\n      <td>309</td>\n      <td>39</td>\n      <td>52</td>\n      <td>43</td>\n      <td>60</td>\n      <td>50</td>\n      <td>65</td>\n      <td>Blaze</td>\n      <td>Solar Power</td>\n      <td>NaN</td>\n      <td>1</td>\n      <td>FALSE</td>\n      <td>False</td>\n    </tr>\n    <tr>\n      <th>...</th>\n      <td>...</td>\n      <td>...</td>\n      <td>...</td>\n      <td>...</td>\n      <td>...</td>\n      <td>...</td>\n      <td>...</td>\n      <td>...</td>\n      <td>...</td>\n      <td>...</td>\n      <td>...</td>\n      <td>...</td>\n      <td>...</td>\n      <td>...</td>\n      <td>...</td>\n      <td>...</td>\n      <td>...</td>\n    </tr>\n    <tr>\n      <th>928</th>\n      <td>805.0</td>\n      <td>Stakataka</td>\n      <td>Rock</td>\n      <td>Steel</td>\n      <td>570</td>\n      <td>61</td>\n      <td>131</td>\n      <td>211</td>\n      <td>53</td>\n      <td>101</td>\n      <td>13</td>\n      <td>Beast Boost</td>\n      <td>NaN</td>\n      <td>NaN</td>\n      <td>7</td>\n      <td>FALSE</td>\n      <td>False</td>\n    </tr>\n    <tr>\n      <th>929</th>\n      <td>806.0</td>\n      <td>Blacephalon</td>\n      <td>Fire</td>\n      <td>Ghost</td>\n      <td>570</td>\n      <td>53</td>\n      <td>127</td>\n      <td>53</td>\n      <td>151</td>\n      <td>79</td>\n      <td>107</td>\n      <td>Beast Boost</td>\n      <td>NaN</td>\n      <td>NaN</td>\n      <td>7</td>\n      <td>FALSE</td>\n      <td>False</td>\n    </tr>\n    <tr>\n      <th>930</th>\n      <td>807.0</td>\n      <td>Zeraora</td>\n      <td>Electric</td>\n      <td>NaN</td>\n      <td>600</td>\n      <td>88</td>\n      <td>112</td>\n      <td>75</td>\n      <td>102</td>\n      <td>80</td>\n      <td>143</td>\n      <td>Volt Absorb</td>\n      <td>NaN</td>\n      <td>NaN</td>\n      <td>7</td>\n      <td>TRUE</td>\n      <td>True</td>\n    </tr>\n    <tr>\n      <th>931</th>\n      <td>808.0</td>\n      <td>Meltan</td>\n      <td>Steel</td>\n      <td>NaN</td>\n      <td>300</td>\n      <td>65</td>\n      <td>46</td>\n      <td>65</td>\n      <td>55</td>\n      <td>35</td>\n      <td>34</td>\n      <td>Magnet Pull</td>\n      <td>NaN</td>\n      <td>NaN</td>\n      <td>7</td>\n      <td>TRUE</td>\n      <td>True</td>\n    </tr>\n    <tr>\n      <th>932</th>\n      <td>809.0</td>\n      <td>Melmetal</td>\n      <td>Steel</td>\n      <td>NaN</td>\n      <td>600</td>\n      <td>135</td>\n      <td>143</td>\n      <td>143</td>\n      <td>80</td>\n      <td>65</td>\n      <td>34</td>\n      <td>Iron Fist</td>\n      <td>NaN</td>\n      <td>NaN</td>\n      <td>7</td>\n      <td>TRUE</td>\n      <td>True</td>\n    </tr>\n  </tbody>\n</table>\n<p>933 rows × 17 columns</p>\n</div>"
     },
     "metadata": {},
     "output_type": "display_data"
    }
   ],
   "source": [
    "import pandas as pd\n",
    "\n",
    "poke_base = pd.read_csv('base_pokemon.csv')\n",
    "poke_go = pd.read_csv('go_pokemon.csv', encoding='latin-1')\n",
    "display(poke_go, poke_base)"
   ],
   "metadata": {
    "collapsed": false
   }
  },
  {
   "cell_type": "markdown",
   "source": [
    "# def: Dataframe analysis"
   ],
   "metadata": {
    "collapsed": false
   }
  },
  {
   "cell_type": "code",
   "execution_count": 167,
   "outputs": [],
   "source": [
    "import pandas as pd\n",
    "import re\n",
    "import ast\n",
    "\n",
    "\n",
    "def pd_choose(my_list):\n",
    "    i = int(input('choose index:\\n'+str(pd.Series(my_list))))\n",
    "    return my_list[i]\n",
    "\n",
    "# Df merger\n",
    "def pd_merge_base(df1, df2, column1, column2, how= ''):\n",
    "    merged_df = pd.merge(df1, df2, left_on=column1, right_on=column2, how=how)\n",
    "    return merged_df\n",
    "\n",
    "def pd_merge_select(df1, df2, how= 'inner'):\n",
    "    column1 = df1.columns[int(input(pd.Series(df1.columns)))]\n",
    "    column2 = df2.columns[int(input(pd.Series(df2.columns)))]\n",
    "    merged_df = pd.merge(df1, df2, left_on=column1, right_on=column2, how=how)\n",
    "    return merged_df\n",
    "\n",
    "def pd_merge_select_multi(df1, df2):\n",
    "    how = pd_choose(['inner', 'outer','left', 'right','cross' ])\n",
    "    column1 = df1.columns[int(input(pd.Series(df1.columns)))]\n",
    "    column2 = df2.columns[int(input(pd.Series(df2.columns)))]\n",
    "    merged_df = pd.merge(df1, df2, left_on=column1, right_on=column2, how=how)\n",
    "    return merged_df\n",
    "\n",
    "def pd_groupby_describe(df1):\n",
    "    var = ['all','number','object','bool']\n",
    "    include = pd_choose(var)\n",
    "    column1 = df1.columns[int(input(pd.Series(df1.columns)))]\n",
    "    df1_count = df1.groupby(column1).describe(include=include).dropna(axis=1,how='all').reset_index()\n",
    "    return df1_count\n",
    "\n",
    "def pd_groupby_describe_flat(df1, include = 'all'):\n",
    "    include = pd_choose(['all','number','object','bool'])\n",
    "    column1 = df1.columns[int(input(pd.Series(df1.columns)))]\n",
    "    df1_count = df1.groupby(column1).describe(include=include).dropna(axis=1,how='all').reset_index()\n",
    "    df1_count.columns = df1_count.columns.to_flat_index()\n",
    "    pattern = r\"([\\w]+)_([\\w]+)\"\n",
    "    list_of_strings = []\n",
    "    for tuple in df1_count.columns:\n",
    "        string = \"_\".join(tuple)\n",
    "        #string = re.sub(r\"\\s+\", \"\", string)\n",
    "        list_of_strings.append(string)\n",
    "    df1_count.columns = list_of_strings\n",
    "    return df1_count\n",
    "\n",
    "\n",
    "#list = None\n"
   ],
   "metadata": {
    "collapsed": false
   }
  },
  {
   "cell_type": "code",
   "execution_count": 164,
   "outputs": [
    {
     "ename": "ValueError",
     "evalue": "invalid literal for int() with base 10: ''",
     "output_type": "error",
     "traceback": [
      "\u001B[1;31m---------------------------------------------------------------------------\u001B[0m",
      "\u001B[1;31mValueError\u001B[0m                                Traceback (most recent call last)",
      "Cell \u001B[1;32mIn[164], line 2\u001B[0m\n\u001B[0;32m      1\u001B[0m lis \u001B[38;5;241m=\u001B[39m [\u001B[38;5;124m'\u001B[39m\u001B[38;5;124mall\u001B[39m\u001B[38;5;124m'\u001B[39m,\u001B[38;5;124m'\u001B[39m\u001B[38;5;124mnumber\u001B[39m\u001B[38;5;124m'\u001B[39m,\u001B[38;5;124m'\u001B[39m\u001B[38;5;124mobject\u001B[39m\u001B[38;5;124m'\u001B[39m,\u001B[38;5;124m'\u001B[39m\u001B[38;5;124mbool\u001B[39m\u001B[38;5;124m'\u001B[39m]\n\u001B[1;32m----> 2\u001B[0m \u001B[43mpd_choose\u001B[49m\u001B[43m(\u001B[49m\u001B[43mlis\u001B[49m\u001B[43m)\u001B[49m\n",
      "Cell \u001B[1;32mIn[163], line 7\u001B[0m, in \u001B[0;36mpd_choose\u001B[1;34m(list)\u001B[0m\n\u001B[0;32m      6\u001B[0m \u001B[38;5;28;01mdef\u001B[39;00m \u001B[38;5;21mpd_choose\u001B[39m(\u001B[38;5;28mlist\u001B[39m):\n\u001B[1;32m----> 7\u001B[0m     i \u001B[38;5;241m=\u001B[39m \u001B[38;5;28;43mint\u001B[39;49m\u001B[43m(\u001B[49m\u001B[38;5;28;43minput\u001B[39;49m\u001B[43m(\u001B[49m\u001B[38;5;124;43m'\u001B[39;49m\u001B[38;5;124;43mchoose index:\u001B[39;49m\u001B[38;5;130;43;01m\\n\u001B[39;49;00m\u001B[38;5;124;43m'\u001B[39;49m\u001B[38;5;241;43m+\u001B[39;49m\u001B[38;5;28;43mstr\u001B[39;49m\u001B[43m(\u001B[49m\u001B[43mpd\u001B[49m\u001B[38;5;241;43m.\u001B[39;49m\u001B[43mSeries\u001B[49m\u001B[43m(\u001B[49m\u001B[38;5;28;43mlist\u001B[39;49m\u001B[43m)\u001B[49m\u001B[43m)\u001B[49m\u001B[43m)\u001B[49m\u001B[43m)\u001B[49m\n\u001B[0;32m      8\u001B[0m     \u001B[38;5;28;01mreturn\u001B[39;00m \u001B[38;5;28mlist\u001B[39m[i]\n",
      "\u001B[1;31mValueError\u001B[0m: invalid literal for int() with base 10: ''"
     ]
    }
   ],
   "source": [
    "my_list = ['all','number','object','bool']\n",
    "pd_choose(my_list)"
   ],
   "metadata": {
    "collapsed": false
   }
  },
  {
   "cell_type": "code",
   "execution_count": 128,
   "outputs": [
    {
     "data": {
      "text/plain": "Index(['name', 'city'], dtype='object')"
     },
     "execution_count": 128,
     "metadata": {},
     "output_type": "execute_result"
    }
   ],
   "source": [
    "data = {\n",
    "    'name': ['John', 'Alice', 'Bob', 'Alice'],\n",
    "    'age': [25, 30, 35, 27],\n",
    "    'salary': [5000, 6000, 5500, 7000],\n",
    "    'city': ['New York', 'Chicago', 'New York', 'Chicago']\n",
    "}\n",
    "df = pd.DataFrame(data)\n",
    "\n",
    "df.select_dtypes(include='object').columns"
   ],
   "metadata": {
    "collapsed": false
   }
  },
  {
   "cell_type": "markdown",
   "source": [
    "## Merge Data"
   ],
   "metadata": {
    "collapsed": false
   }
  },
  {
   "cell_type": "code",
   "execution_count": 168,
   "outputs": [
    {
     "ename": "ValueError",
     "evalue": "invalid literal for int() with base 10: ''",
     "output_type": "error",
     "traceback": [
      "\u001B[1;31m---------------------------------------------------------------------------\u001B[0m",
      "\u001B[1;31mValueError\u001B[0m                                Traceback (most recent call last)",
      "Cell \u001B[1;32mIn[168], line 1\u001B[0m\n\u001B[1;32m----> 1\u001B[0m simple_df \u001B[38;5;241m=\u001B[39m \u001B[43mpd_merge_select\u001B[49m\u001B[43m(\u001B[49m\u001B[43mpoke_go\u001B[49m\u001B[43m,\u001B[49m\u001B[43m \u001B[49m\u001B[43mpoke_base\u001B[49m\u001B[43m,\u001B[49m\u001B[43m \u001B[49m\u001B[38;5;124;43m'\u001B[39;49m\u001B[38;5;124;43minner\u001B[39;49m\u001B[38;5;124;43m'\u001B[39;49m\u001B[43m)\u001B[49m[[\u001B[38;5;124m'\u001B[39m\u001B[38;5;124mNAME_ENGLISH\u001B[39m\u001B[38;5;124m'\u001B[39m,\u001B[38;5;124m'\u001B[39m\u001B[38;5;124mNAME_FRENCH\u001B[39m\u001B[38;5;124m'\u001B[39m,\u001B[38;5;124m'\u001B[39m\u001B[38;5;124mAbility1\u001B[39m\u001B[38;5;124m'\u001B[39m]]\n",
      "Cell \u001B[1;32mIn[167], line 16\u001B[0m, in \u001B[0;36mpd_merge_select\u001B[1;34m(df1, df2, how)\u001B[0m\n\u001B[0;32m     15\u001B[0m \u001B[38;5;28;01mdef\u001B[39;00m \u001B[38;5;21mpd_merge_select\u001B[39m(df1, df2, how\u001B[38;5;241m=\u001B[39m \u001B[38;5;124m'\u001B[39m\u001B[38;5;124minner\u001B[39m\u001B[38;5;124m'\u001B[39m):\n\u001B[1;32m---> 16\u001B[0m     column1 \u001B[38;5;241m=\u001B[39m df1\u001B[38;5;241m.\u001B[39mcolumns[\u001B[38;5;28;43mint\u001B[39;49m\u001B[43m(\u001B[49m\u001B[38;5;28;43minput\u001B[39;49m\u001B[43m(\u001B[49m\u001B[43mpd\u001B[49m\u001B[38;5;241;43m.\u001B[39;49m\u001B[43mSeries\u001B[49m\u001B[43m(\u001B[49m\u001B[43mdf1\u001B[49m\u001B[38;5;241;43m.\u001B[39;49m\u001B[43mcolumns\u001B[49m\u001B[43m)\u001B[49m\u001B[43m)\u001B[49m\u001B[43m)\u001B[49m]\n\u001B[0;32m     17\u001B[0m     column2 \u001B[38;5;241m=\u001B[39m df2\u001B[38;5;241m.\u001B[39mcolumns[\u001B[38;5;28mint\u001B[39m(\u001B[38;5;28minput\u001B[39m(pd\u001B[38;5;241m.\u001B[39mSeries(df2\u001B[38;5;241m.\u001B[39mcolumns)))]\n\u001B[0;32m     18\u001B[0m     merged_df \u001B[38;5;241m=\u001B[39m pd\u001B[38;5;241m.\u001B[39mmerge(df1, df2, left_on\u001B[38;5;241m=\u001B[39mcolumn1, right_on\u001B[38;5;241m=\u001B[39mcolumn2, how\u001B[38;5;241m=\u001B[39mhow)\n",
      "\u001B[1;31mValueError\u001B[0m: invalid literal for int() with base 10: ''"
     ]
    }
   ],
   "source": [
    "simple_df = pd_merge_select(poke_go, poke_base, 'inner')[['NAME_ENGLISH','NAME_FRENCH','Ability1']]"
   ],
   "metadata": {
    "collapsed": false
   }
  },
  {
   "cell_type": "code",
   "execution_count": 169,
   "outputs": [
    {
     "data": {
      "text/plain": "    NAME_ENGLISH    NAME_FRENCH         Name     Ability1\n0      Bulbasaur     Bulbizarre    Bulbasaur     Overgrow\n1        Ivysaur     Herbizarre      Ivysaur     Overgrow\n2       Venusaur     Florizarre     Venusaur     Overgrow\n3     Charmander      Salamèche   Charmander        Blaze\n4     Charmeleon      Reptincel   Charmeleon        Blaze\n..           ...            ...          ...          ...\n797    Stakataka       Ama-Ama     Stakataka  Beast Boost\n798  Blacephalon  Pierroteknik   Blacephalon  Beast Boost\n799      Zeraora       Zeraora       Zeraora  Volt Absorb\n800       Meltan        Meltan        Meltan  Magnet Pull\n801     Melmetal       Melmetal     Melmetal    Iron Fist\n\n[802 rows x 4 columns]",
      "text/html": "<div>\n<style scoped>\n    .dataframe tbody tr th:only-of-type {\n        vertical-align: middle;\n    }\n\n    .dataframe tbody tr th {\n        vertical-align: top;\n    }\n\n    .dataframe thead th {\n        text-align: right;\n    }\n</style>\n<table border=\"1\" class=\"dataframe\">\n  <thead>\n    <tr style=\"text-align: right;\">\n      <th></th>\n      <th>NAME_ENGLISH</th>\n      <th>NAME_FRENCH</th>\n      <th>Name</th>\n      <th>Ability1</th>\n    </tr>\n  </thead>\n  <tbody>\n    <tr>\n      <th>0</th>\n      <td>Bulbasaur</td>\n      <td>Bulbizarre</td>\n      <td>Bulbasaur</td>\n      <td>Overgrow</td>\n    </tr>\n    <tr>\n      <th>1</th>\n      <td>Ivysaur</td>\n      <td>Herbizarre</td>\n      <td>Ivysaur</td>\n      <td>Overgrow</td>\n    </tr>\n    <tr>\n      <th>2</th>\n      <td>Venusaur</td>\n      <td>Florizarre</td>\n      <td>Venusaur</td>\n      <td>Overgrow</td>\n    </tr>\n    <tr>\n      <th>3</th>\n      <td>Charmander</td>\n      <td>Salamèche</td>\n      <td>Charmander</td>\n      <td>Blaze</td>\n    </tr>\n    <tr>\n      <th>4</th>\n      <td>Charmeleon</td>\n      <td>Reptincel</td>\n      <td>Charmeleon</td>\n      <td>Blaze</td>\n    </tr>\n    <tr>\n      <th>...</th>\n      <td>...</td>\n      <td>...</td>\n      <td>...</td>\n      <td>...</td>\n    </tr>\n    <tr>\n      <th>797</th>\n      <td>Stakataka</td>\n      <td>Ama-Ama</td>\n      <td>Stakataka</td>\n      <td>Beast Boost</td>\n    </tr>\n    <tr>\n      <th>798</th>\n      <td>Blacephalon</td>\n      <td>Pierroteknik</td>\n      <td>Blacephalon</td>\n      <td>Beast Boost</td>\n    </tr>\n    <tr>\n      <th>799</th>\n      <td>Zeraora</td>\n      <td>Zeraora</td>\n      <td>Zeraora</td>\n      <td>Volt Absorb</td>\n    </tr>\n    <tr>\n      <th>800</th>\n      <td>Meltan</td>\n      <td>Meltan</td>\n      <td>Meltan</td>\n      <td>Magnet Pull</td>\n    </tr>\n    <tr>\n      <th>801</th>\n      <td>Melmetal</td>\n      <td>Melmetal</td>\n      <td>Melmetal</td>\n      <td>Iron Fist</td>\n    </tr>\n  </tbody>\n</table>\n<p>802 rows × 4 columns</p>\n</div>"
     },
     "execution_count": 169,
     "metadata": {},
     "output_type": "execute_result"
    }
   ],
   "source": [
    "pd_merge_select_multi(poke_go[['NAME_ENGLISH','NAME_FRENCH']], poke_base[['Name','Ability1']])"
   ],
   "metadata": {
    "collapsed": false
   }
  },
  {
   "cell_type": "markdown",
   "source": [
    "## Groupby Data"
   ],
   "metadata": {
    "collapsed": false
   }
  },
  {
   "cell_type": "code",
   "execution_count": 158,
   "outputs": [
    {
     "ename": "TypeError",
     "evalue": "pd_choose() missing 1 required positional argument: 'list'",
     "output_type": "error",
     "traceback": [
      "\u001B[1;31m---------------------------------------------------------------------------\u001B[0m",
      "\u001B[1;31mTypeError\u001B[0m                                 Traceback (most recent call last)",
      "Cell \u001B[1;32mIn[158], line 2\u001B[0m\n\u001B[0;32m      1\u001B[0m \u001B[38;5;66;03m# groupby describe\u001B[39;00m\n\u001B[1;32m----> 2\u001B[0m group_0 \u001B[38;5;241m=\u001B[39m \u001B[43mpd_groupby_describe\u001B[49m\u001B[43m(\u001B[49m\u001B[43mpoke_go\u001B[49m\u001B[43m)\u001B[49m\n\u001B[0;32m      3\u001B[0m group_0[group_0\u001B[38;5;241m.\u001B[39mTYP1\u001B[38;5;241m.\u001B[39mcount]\n",
      "Cell \u001B[1;32mIn[157], line 29\u001B[0m, in \u001B[0;36mpd_groupby_describe\u001B[1;34m(df1)\u001B[0m\n\u001B[0;32m     27\u001B[0m \u001B[38;5;28mlist\u001B[39m \u001B[38;5;241m=\u001B[39m [\u001B[38;5;124m'\u001B[39m\u001B[38;5;124mall\u001B[39m\u001B[38;5;124m'\u001B[39m,\u001B[38;5;124m'\u001B[39m\u001B[38;5;124mnumber\u001B[39m\u001B[38;5;124m'\u001B[39m,\u001B[38;5;124m'\u001B[39m\u001B[38;5;124mobject\u001B[39m\u001B[38;5;124m'\u001B[39m,\u001B[38;5;124m'\u001B[39m\u001B[38;5;124mbool\u001B[39m\u001B[38;5;124m'\u001B[39m]\n\u001B[0;32m     28\u001B[0m pd_choose(\u001B[38;5;28mlist\u001B[39m)\n\u001B[1;32m---> 29\u001B[0m include \u001B[38;5;241m=\u001B[39m \u001B[43mpd_choose\u001B[49m\u001B[43m(\u001B[49m\u001B[43m)\u001B[49m\n\u001B[0;32m     30\u001B[0m column1 \u001B[38;5;241m=\u001B[39m df1\u001B[38;5;241m.\u001B[39mcolumns[\u001B[38;5;28mint\u001B[39m(\u001B[38;5;28minput\u001B[39m(pd\u001B[38;5;241m.\u001B[39mSeries(df1\u001B[38;5;241m.\u001B[39mcolumns)))]\n\u001B[0;32m     31\u001B[0m df1_count \u001B[38;5;241m=\u001B[39m df1\u001B[38;5;241m.\u001B[39mgroupby(column1)\u001B[38;5;241m.\u001B[39mdescribe(include\u001B[38;5;241m=\u001B[39minclude)\u001B[38;5;241m.\u001B[39mdropna(axis\u001B[38;5;241m=\u001B[39m\u001B[38;5;241m1\u001B[39m,how\u001B[38;5;241m=\u001B[39m\u001B[38;5;124m'\u001B[39m\u001B[38;5;124mall\u001B[39m\u001B[38;5;124m'\u001B[39m)\u001B[38;5;241m.\u001B[39mreset_index()\n",
      "\u001B[1;31mTypeError\u001B[0m: pd_choose() missing 1 required positional argument: 'list'"
     ]
    }
   ],
   "source": [
    "# groupby describe\n",
    "group_0 = pd_groupby_describe(poke_go)\n",
    "group_0[group_0.TYP1.count]"
   ],
   "metadata": {
    "collapsed": false
   }
  },
  {
   "cell_type": "code",
   "execution_count": 162,
   "outputs": [
    {
     "ename": "TypeError",
     "evalue": "pd_choose() missing 1 required positional argument: 'list'",
     "output_type": "error",
     "traceback": [
      "\u001B[1;31m---------------------------------------------------------------------------\u001B[0m",
      "\u001B[1;31mTypeError\u001B[0m                                 Traceback (most recent call last)",
      "Cell \u001B[1;32mIn[162], line 6\u001B[0m\n\u001B[0;32m      3\u001B[0m df[\u001B[38;5;124m'\u001B[39m\u001B[38;5;124mType\u001B[39m\u001B[38;5;124m'\u001B[39m] \u001B[38;5;241m=\u001B[39m df[\u001B[38;5;124m'\u001B[39m\u001B[38;5;124mTYP1\u001B[39m\u001B[38;5;124m'\u001B[39m] \u001B[38;5;241m+\u001B[39m \u001B[38;5;124m'\u001B[39m\u001B[38;5;124m,\u001B[39m\u001B[38;5;124m'\u001B[39m\u001B[38;5;241m+\u001B[39m df[\u001B[38;5;124m'\u001B[39m\u001B[38;5;124mTYP2\u001B[39m\u001B[38;5;124m'\u001B[39m]\n\u001B[0;32m      4\u001B[0m poke_go \u001B[38;5;241m=\u001B[39mdf\n\u001B[1;32m----> 6\u001B[0m group_1 \u001B[38;5;241m=\u001B[39m \u001B[43mpd_groupby_describe_flat\u001B[49m\u001B[43m(\u001B[49m\u001B[43mpoke_go\u001B[49m\u001B[43m,\u001B[49m\u001B[43m \u001B[49m\u001B[38;5;124;43m'\u001B[39;49m\u001B[38;5;124;43mnumber\u001B[39;49m\u001B[38;5;124;43m'\u001B[39;49m\u001B[43m)\u001B[49m\u001B[38;5;66;03m#.T#, 'str')\u001B[39;00m\n\u001B[0;32m      7\u001B[0m group_1\n",
      "Cell \u001B[1;32mIn[159], line 36\u001B[0m, in \u001B[0;36mpd_groupby_describe_flat\u001B[1;34m(df1, include)\u001B[0m\n\u001B[0;32m     34\u001B[0m lis \u001B[38;5;241m=\u001B[39m [\u001B[38;5;124m'\u001B[39m\u001B[38;5;124mall\u001B[39m\u001B[38;5;124m'\u001B[39m,\u001B[38;5;124m'\u001B[39m\u001B[38;5;124mnumber\u001B[39m\u001B[38;5;124m'\u001B[39m,\u001B[38;5;124m'\u001B[39m\u001B[38;5;124mobject\u001B[39m\u001B[38;5;124m'\u001B[39m,\u001B[38;5;124m'\u001B[39m\u001B[38;5;124mbool\u001B[39m\u001B[38;5;124m'\u001B[39m]\n\u001B[0;32m     35\u001B[0m pd_choose(lis)\n\u001B[1;32m---> 36\u001B[0m include \u001B[38;5;241m=\u001B[39m \u001B[43mpd_choose\u001B[49m\u001B[43m(\u001B[49m\u001B[43m)\u001B[49m\n\u001B[0;32m     37\u001B[0m column1 \u001B[38;5;241m=\u001B[39m df1\u001B[38;5;241m.\u001B[39mcolumns[\u001B[38;5;28mint\u001B[39m(\u001B[38;5;28minput\u001B[39m(pd\u001B[38;5;241m.\u001B[39mSeries(df1\u001B[38;5;241m.\u001B[39mcolumns)))]\n\u001B[0;32m     38\u001B[0m df1_count \u001B[38;5;241m=\u001B[39m df1\u001B[38;5;241m.\u001B[39mgroupby(column1)\u001B[38;5;241m.\u001B[39mdescribe(include\u001B[38;5;241m=\u001B[39minclude)\u001B[38;5;241m.\u001B[39mdropna(axis\u001B[38;5;241m=\u001B[39m\u001B[38;5;241m1\u001B[39m,how\u001B[38;5;241m=\u001B[39m\u001B[38;5;124m'\u001B[39m\u001B[38;5;124mall\u001B[39m\u001B[38;5;124m'\u001B[39m)\u001B[38;5;241m.\u001B[39mreset_index()\n",
      "\u001B[1;31mTypeError\u001B[0m: pd_choose() missing 1 required positional argument: 'list'"
     ]
    }
   ],
   "source": [
    "# groupby describe flat\n",
    "df = poke_go\n",
    "df['Type'] = df['TYP1'] + ','+ df['TYP2']\n",
    "poke_go =df\n",
    "\n",
    "group_1 = pd_groupby_describe_flat(poke_go, 'number')#.T#, 'str')\n",
    "group_1"
   ],
   "metadata": {
    "collapsed": false
   }
  },
  {
   "cell_type": "code",
   "execution_count": 134,
   "outputs": [
    {
     "data": {
      "text/plain": "                                   0                   1                  2   \\\nTYP1_                             Bug                Dark             Dragon   \n#_count                            76                  33                 27   \n#_unique                           76                  33                 27   \n#_top                              10                 19A                147   \n#_freq                              1                   1                  1   \n...                               ...                 ...                ...   \nICON_PATH_freq                      1                   1                  1   \nSPRITE_PATH_count                  41                  16                 13   \nSPRITE_PATH_unique                 41                  16                 13   \nSPRITE_PATH_top     ./sprites/010.png  ./sprites/019A.png  ./sprites/147.png   \nSPRITE_PATH_freq                    1                   1                  1   \n\n                                   3                  4                  5   \\\nTYP1_                        Electric              Fairy           Fighting   \n#_count                            46                 18                 29   \n#_unique                           46                 18                 29   \n#_top                              25                 35                 56   \n#_freq                              1                  1                  1   \n...                               ...                ...                ...   \nICON_PATH_freq                      1                  1                  1   \nSPRITE_PATH_count                  26                  8                 15   \nSPRITE_PATH_unique                 26                  8                 15   \nSPRITE_PATH_top     ./sprites/025.png  ./sprites/035.png  ./sprites/056.png   \nSPRITE_PATH_freq                    1                  1                  1   \n\n                                   6       7                  8   \\\nTYP1_                            Fire  Flying              Ghost   \n#_count                            55       3                 28   \n#_unique                           55       3                 28   \n#_top                               4     641                 92   \n#_freq                              1       1                  1   \n...                               ...     ...                ...   \nICON_PATH_freq                      1       1                  1   \nSPRITE_PATH_count                  33       0                 15   \nSPRITE_PATH_unique                 33       0                 15   \nSPRITE_PATH_top     ./sprites/004.png     NaN  ./sprites/092.png   \nSPRITE_PATH_freq                    1     NaN                  1   \n\n                                   9                   10                  11  \\\nTYP1_                           Grass              Ground                 Ice   \n#_count                            78                  34                  28   \n#_unique                           78                  34                  28   \n#_top                               1                  27                 27A   \n#_freq                              1                   1                   1   \n...                               ...                 ...                 ...   \nICON_PATH_freq                      1                   1                   1   \nSPRITE_PATH_count                  44                  21                  20   \nSPRITE_PATH_unique                 44                  20                  20   \nSPRITE_PATH_top     ./sprites/001.png  ./sprites/050A.png  ./sprites/027A.png   \nSPRITE_PATH_freq                    1                   2                   1   \n\n                                   12                 13                 14  \\\nTYP1_                          Normal             Poison            Psychic   \n#_count                           105                 36                 56   \n#_unique                          105                 36                 56   \n#_top                              16                 23                 63   \n#_freq                              1                  1                  1   \n...                               ...                ...                ...   \nICON_PATH_freq                      1                  1                  1   \nSPRITE_PATH_count                  71                 26                 33   \nSPRITE_PATH_unique                 71                 26                 33   \nSPRITE_PATH_top     ./sprites/016.png  ./sprites/023.png  ./sprites/063.png   \nSPRITE_PATH_freq                    1                  1                  1   \n\n                                    15                 16                 17  \nTYP1_                             Rock              Steel              Water  \n#_count                             49                 26                115  \n#_unique                            49                 26                115  \n#_top                               74                208                  7  \n#_freq                               1                  1                  1  \n...                                ...                ...                ...  \nICON_PATH_freq                       1                  1                  1  \nSPRITE_PATH_count                   29                 16                 81  \nSPRITE_PATH_unique                  28                 16                 81  \nSPRITE_PATH_top     ./sprites/074A.png  ./sprites/208.png  ./sprites/007.png  \nSPRITE_PATH_freq                     2                  1                  1  \n\n[105 rows x 18 columns]",
      "text/html": "<div>\n<style scoped>\n    .dataframe tbody tr th:only-of-type {\n        vertical-align: middle;\n    }\n\n    .dataframe tbody tr th {\n        vertical-align: top;\n    }\n\n    .dataframe thead th {\n        text-align: right;\n    }\n</style>\n<table border=\"1\" class=\"dataframe\">\n  <thead>\n    <tr style=\"text-align: right;\">\n      <th></th>\n      <th>0</th>\n      <th>1</th>\n      <th>2</th>\n      <th>3</th>\n      <th>4</th>\n      <th>5</th>\n      <th>6</th>\n      <th>7</th>\n      <th>8</th>\n      <th>9</th>\n      <th>10</th>\n      <th>11</th>\n      <th>12</th>\n      <th>13</th>\n      <th>14</th>\n      <th>15</th>\n      <th>16</th>\n      <th>17</th>\n    </tr>\n  </thead>\n  <tbody>\n    <tr>\n      <th>TYP1_</th>\n      <td>Bug</td>\n      <td>Dark</td>\n      <td>Dragon</td>\n      <td>Electric</td>\n      <td>Fairy</td>\n      <td>Fighting</td>\n      <td>Fire</td>\n      <td>Flying</td>\n      <td>Ghost</td>\n      <td>Grass</td>\n      <td>Ground</td>\n      <td>Ice</td>\n      <td>Normal</td>\n      <td>Poison</td>\n      <td>Psychic</td>\n      <td>Rock</td>\n      <td>Steel</td>\n      <td>Water</td>\n    </tr>\n    <tr>\n      <th>#_count</th>\n      <td>76</td>\n      <td>33</td>\n      <td>27</td>\n      <td>46</td>\n      <td>18</td>\n      <td>29</td>\n      <td>55</td>\n      <td>3</td>\n      <td>28</td>\n      <td>78</td>\n      <td>34</td>\n      <td>28</td>\n      <td>105</td>\n      <td>36</td>\n      <td>56</td>\n      <td>49</td>\n      <td>26</td>\n      <td>115</td>\n    </tr>\n    <tr>\n      <th>#_unique</th>\n      <td>76</td>\n      <td>33</td>\n      <td>27</td>\n      <td>46</td>\n      <td>18</td>\n      <td>29</td>\n      <td>55</td>\n      <td>3</td>\n      <td>28</td>\n      <td>78</td>\n      <td>34</td>\n      <td>28</td>\n      <td>105</td>\n      <td>36</td>\n      <td>56</td>\n      <td>49</td>\n      <td>26</td>\n      <td>115</td>\n    </tr>\n    <tr>\n      <th>#_top</th>\n      <td>10</td>\n      <td>19A</td>\n      <td>147</td>\n      <td>25</td>\n      <td>35</td>\n      <td>56</td>\n      <td>4</td>\n      <td>641</td>\n      <td>92</td>\n      <td>1</td>\n      <td>27</td>\n      <td>27A</td>\n      <td>16</td>\n      <td>23</td>\n      <td>63</td>\n      <td>74</td>\n      <td>208</td>\n      <td>7</td>\n    </tr>\n    <tr>\n      <th>#_freq</th>\n      <td>1</td>\n      <td>1</td>\n      <td>1</td>\n      <td>1</td>\n      <td>1</td>\n      <td>1</td>\n      <td>1</td>\n      <td>1</td>\n      <td>1</td>\n      <td>1</td>\n      <td>1</td>\n      <td>1</td>\n      <td>1</td>\n      <td>1</td>\n      <td>1</td>\n      <td>1</td>\n      <td>1</td>\n      <td>1</td>\n    </tr>\n    <tr>\n      <th>...</th>\n      <td>...</td>\n      <td>...</td>\n      <td>...</td>\n      <td>...</td>\n      <td>...</td>\n      <td>...</td>\n      <td>...</td>\n      <td>...</td>\n      <td>...</td>\n      <td>...</td>\n      <td>...</td>\n      <td>...</td>\n      <td>...</td>\n      <td>...</td>\n      <td>...</td>\n      <td>...</td>\n      <td>...</td>\n      <td>...</td>\n    </tr>\n    <tr>\n      <th>ICON_PATH_freq</th>\n      <td>1</td>\n      <td>1</td>\n      <td>1</td>\n      <td>1</td>\n      <td>1</td>\n      <td>1</td>\n      <td>1</td>\n      <td>1</td>\n      <td>1</td>\n      <td>1</td>\n      <td>1</td>\n      <td>1</td>\n      <td>1</td>\n      <td>1</td>\n      <td>1</td>\n      <td>1</td>\n      <td>1</td>\n      <td>1</td>\n    </tr>\n    <tr>\n      <th>SPRITE_PATH_count</th>\n      <td>41</td>\n      <td>16</td>\n      <td>13</td>\n      <td>26</td>\n      <td>8</td>\n      <td>15</td>\n      <td>33</td>\n      <td>0</td>\n      <td>15</td>\n      <td>44</td>\n      <td>21</td>\n      <td>20</td>\n      <td>71</td>\n      <td>26</td>\n      <td>33</td>\n      <td>29</td>\n      <td>16</td>\n      <td>81</td>\n    </tr>\n    <tr>\n      <th>SPRITE_PATH_unique</th>\n      <td>41</td>\n      <td>16</td>\n      <td>13</td>\n      <td>26</td>\n      <td>8</td>\n      <td>15</td>\n      <td>33</td>\n      <td>0</td>\n      <td>15</td>\n      <td>44</td>\n      <td>20</td>\n      <td>20</td>\n      <td>71</td>\n      <td>26</td>\n      <td>33</td>\n      <td>28</td>\n      <td>16</td>\n      <td>81</td>\n    </tr>\n    <tr>\n      <th>SPRITE_PATH_top</th>\n      <td>./sprites/010.png</td>\n      <td>./sprites/019A.png</td>\n      <td>./sprites/147.png</td>\n      <td>./sprites/025.png</td>\n      <td>./sprites/035.png</td>\n      <td>./sprites/056.png</td>\n      <td>./sprites/004.png</td>\n      <td>NaN</td>\n      <td>./sprites/092.png</td>\n      <td>./sprites/001.png</td>\n      <td>./sprites/050A.png</td>\n      <td>./sprites/027A.png</td>\n      <td>./sprites/016.png</td>\n      <td>./sprites/023.png</td>\n      <td>./sprites/063.png</td>\n      <td>./sprites/074A.png</td>\n      <td>./sprites/208.png</td>\n      <td>./sprites/007.png</td>\n    </tr>\n    <tr>\n      <th>SPRITE_PATH_freq</th>\n      <td>1</td>\n      <td>1</td>\n      <td>1</td>\n      <td>1</td>\n      <td>1</td>\n      <td>1</td>\n      <td>1</td>\n      <td>NaN</td>\n      <td>1</td>\n      <td>1</td>\n      <td>2</td>\n      <td>1</td>\n      <td>1</td>\n      <td>1</td>\n      <td>1</td>\n      <td>2</td>\n      <td>1</td>\n      <td>1</td>\n    </tr>\n  </tbody>\n</table>\n<p>105 rows × 18 columns</p>\n</div>"
     },
     "execution_count": 134,
     "metadata": {},
     "output_type": "execute_result"
    }
   ],
   "source": [
    "type(gr.columns[0])\n",
    "group_1.T"
   ],
   "metadata": {
    "collapsed": false
   }
  },
  {
   "cell_type": "code",
   "execution_count": null,
   "outputs": [],
   "source": [
    "import pandas as pd\n",
    "\n",
    "# Create a sample DataFrame\n",
    "data = {\n",
    "    'name': ['John', 'Alice', 'Bob', 'Alice'],\n",
    "    'age': [25, 30, 35, 27],\n",
    "    'salary': [5000, 6000, 5500, 7000],\n",
    "    'city': ['New York', 'Chicago', 'New York', 'Chicago']\n",
    "}\n",
    "df = pd.DataFrame(data)\n",
    "\n",
    "# Group by multiple columns\n",
    "grouped = df.groupby(['city', 'name'])\n",
    "\n",
    "# Example usage\n",
    "print(grouped.size())  # Grouped size based on 'city' and 'name'\n",
    "print(grouped.sum()['salary'])  # Grouped sum of 'salary' based on 'city' and 'name'\n",
    "grouped.count"
   ],
   "metadata": {
    "collapsed": false
   }
  },
  {
   "cell_type": "markdown",
   "source": [
    "## Create random df"
   ],
   "metadata": {
    "collapsed": false
   }
  },
  {
   "cell_type": "code",
   "execution_count": 176,
   "outputs": [
    {
     "data": {
      "text/plain": "    A         B          C\n0   7  0.931633     Staryu\n1   2  0.937335      Burmy\n2   2  0.365191     Slugma\n3   4  0.220422   Vaporeon\n4   1  0.584230    Shuckle\n5   5  0.060231     Togepi\n6   4  0.390357   Pelipper\n7   3  0.099852    Luvdisc\n8   5  0.268602     Meltan\n9   7  0.042504  Clauncher\n10  2  0.797824   Nidorina\n11  3  0.499073   Cacturne\n12  6  0.214219    Marowak\n13  6  0.775194  Stoutland\n14  8  0.256373   Primeape\n15  6  0.160632    Blitzle\n16  6  0.082170    Pignite\n17  7  0.545433      Rotom\n18  4  0.356487    Froakie\n19  5  0.131199   Porygon2",
      "text/html": "<div>\n<style scoped>\n    .dataframe tbody tr th:only-of-type {\n        vertical-align: middle;\n    }\n\n    .dataframe tbody tr th {\n        vertical-align: top;\n    }\n\n    .dataframe thead th {\n        text-align: right;\n    }\n</style>\n<table border=\"1\" class=\"dataframe\">\n  <thead>\n    <tr style=\"text-align: right;\">\n      <th></th>\n      <th>A</th>\n      <th>B</th>\n      <th>C</th>\n    </tr>\n  </thead>\n  <tbody>\n    <tr>\n      <th>0</th>\n      <td>7</td>\n      <td>0.931633</td>\n      <td>Staryu</td>\n    </tr>\n    <tr>\n      <th>1</th>\n      <td>2</td>\n      <td>0.937335</td>\n      <td>Burmy</td>\n    </tr>\n    <tr>\n      <th>2</th>\n      <td>2</td>\n      <td>0.365191</td>\n      <td>Slugma</td>\n    </tr>\n    <tr>\n      <th>3</th>\n      <td>4</td>\n      <td>0.220422</td>\n      <td>Vaporeon</td>\n    </tr>\n    <tr>\n      <th>4</th>\n      <td>1</td>\n      <td>0.584230</td>\n      <td>Shuckle</td>\n    </tr>\n    <tr>\n      <th>5</th>\n      <td>5</td>\n      <td>0.060231</td>\n      <td>Togepi</td>\n    </tr>\n    <tr>\n      <th>6</th>\n      <td>4</td>\n      <td>0.390357</td>\n      <td>Pelipper</td>\n    </tr>\n    <tr>\n      <th>7</th>\n      <td>3</td>\n      <td>0.099852</td>\n      <td>Luvdisc</td>\n    </tr>\n    <tr>\n      <th>8</th>\n      <td>5</td>\n      <td>0.268602</td>\n      <td>Meltan</td>\n    </tr>\n    <tr>\n      <th>9</th>\n      <td>7</td>\n      <td>0.042504</td>\n      <td>Clauncher</td>\n    </tr>\n    <tr>\n      <th>10</th>\n      <td>2</td>\n      <td>0.797824</td>\n      <td>Nidorina</td>\n    </tr>\n    <tr>\n      <th>11</th>\n      <td>3</td>\n      <td>0.499073</td>\n      <td>Cacturne</td>\n    </tr>\n    <tr>\n      <th>12</th>\n      <td>6</td>\n      <td>0.214219</td>\n      <td>Marowak</td>\n    </tr>\n    <tr>\n      <th>13</th>\n      <td>6</td>\n      <td>0.775194</td>\n      <td>Stoutland</td>\n    </tr>\n    <tr>\n      <th>14</th>\n      <td>8</td>\n      <td>0.256373</td>\n      <td>Primeape</td>\n    </tr>\n    <tr>\n      <th>15</th>\n      <td>6</td>\n      <td>0.160632</td>\n      <td>Blitzle</td>\n    </tr>\n    <tr>\n      <th>16</th>\n      <td>6</td>\n      <td>0.082170</td>\n      <td>Pignite</td>\n    </tr>\n    <tr>\n      <th>17</th>\n      <td>7</td>\n      <td>0.545433</td>\n      <td>Rotom</td>\n    </tr>\n    <tr>\n      <th>18</th>\n      <td>4</td>\n      <td>0.356487</td>\n      <td>Froakie</td>\n    </tr>\n    <tr>\n      <th>19</th>\n      <td>5</td>\n      <td>0.131199</td>\n      <td>Porygon2</td>\n    </tr>\n  </tbody>\n</table>\n</div>"
     },
     "execution_count": 176,
     "metadata": {},
     "output_type": "execute_result"
    }
   ],
   "source": [
    "import pandas as pd\n",
    "import random\n",
    "\n",
    "data = {'A': [], 'B': [], 'C': []}\n",
    "my_list = poke_go.NAME_ENGLISH\n",
    "\n",
    "for _ in range(20):  # This will create a dataframe with 5 rows\n",
    "    data['A'].append(random.randint(1, 10))\n",
    "    data['B'].append(random.uniform(0.0, 1.0))\n",
    "    data['C'].append(random.choice(my_list))\n",
    "\n",
    "simple_df = pd.DataFrame(data)\n",
    "simple_df"
   ],
   "metadata": {
    "collapsed": false
   }
  },
  {
   "cell_type": "markdown",
   "source": [
    "## Add columns"
   ],
   "metadata": {
    "collapsed": false
   }
  },
  {
   "cell_type": "code",
   "execution_count": 179,
   "outputs": [
    {
     "data": {
      "text/plain": "'A'"
     },
     "execution_count": 179,
     "metadata": {},
     "output_type": "execute_result"
    }
   ],
   "source": [
    "simple_df.columns[0]"
   ],
   "metadata": {
    "collapsed": false
   }
  },
  {
   "cell_type": "code",
   "execution_count": 183,
   "outputs": [
    {
     "data": {
      "text/plain": "    A         B          C  new_col  new_col_2  new_col_3\n0   7  0.931633     Staryu      0.0   2.645751   0.931633\n1   2  0.937335      Burmy      2.2   1.414214   0.937335\n2   2  0.365191     Slugma      4.4   1.414214   0.365191\n3   4  0.220422   Vaporeon      6.6   2.000000   0.220422\n4   1  0.584230    Shuckle      8.8   1.000000   0.584230\n5   5  0.060231     Togepi     11.0   2.236068   0.060231\n6   4  0.390357   Pelipper     13.2   2.000000   0.390357\n7   3  0.099852    Luvdisc     15.4   1.732051   0.099852\n8   5  0.268602     Meltan     17.6   2.236068   0.268602\n9   7  0.042504  Clauncher     19.8   2.645751   0.042504\n10  2  0.797824   Nidorina     22.0   1.414214   0.797824\n11  3  0.499073   Cacturne     24.2   1.732051   0.499073\n12  6  0.214219    Marowak     26.4   2.449490   0.214219\n13  6  0.775194  Stoutland     28.6   2.449490   0.775194\n14  8  0.256373   Primeape     30.8   2.828427   0.256373\n15  6  0.160632    Blitzle     33.0   2.449490   0.160632\n16  6  0.082170    Pignite     35.2   2.449490   0.082170\n17  7  0.545433      Rotom     37.4   2.645751   0.545433\n18  4  0.356487    Froakie     39.6   2.000000   0.356487\n19  5  0.131199   Porygon2     41.8   2.236068   0.131199",
      "text/html": "<div>\n<style scoped>\n    .dataframe tbody tr th:only-of-type {\n        vertical-align: middle;\n    }\n\n    .dataframe tbody tr th {\n        vertical-align: top;\n    }\n\n    .dataframe thead th {\n        text-align: right;\n    }\n</style>\n<table border=\"1\" class=\"dataframe\">\n  <thead>\n    <tr style=\"text-align: right;\">\n      <th></th>\n      <th>A</th>\n      <th>B</th>\n      <th>C</th>\n      <th>new_col</th>\n      <th>new_col_2</th>\n      <th>new_col_3</th>\n    </tr>\n  </thead>\n  <tbody>\n    <tr>\n      <th>0</th>\n      <td>7</td>\n      <td>0.931633</td>\n      <td>Staryu</td>\n      <td>0.0</td>\n      <td>2.645751</td>\n      <td>0.931633</td>\n    </tr>\n    <tr>\n      <th>1</th>\n      <td>2</td>\n      <td>0.937335</td>\n      <td>Burmy</td>\n      <td>2.2</td>\n      <td>1.414214</td>\n      <td>0.937335</td>\n    </tr>\n    <tr>\n      <th>2</th>\n      <td>2</td>\n      <td>0.365191</td>\n      <td>Slugma</td>\n      <td>4.4</td>\n      <td>1.414214</td>\n      <td>0.365191</td>\n    </tr>\n    <tr>\n      <th>3</th>\n      <td>4</td>\n      <td>0.220422</td>\n      <td>Vaporeon</td>\n      <td>6.6</td>\n      <td>2.000000</td>\n      <td>0.220422</td>\n    </tr>\n    <tr>\n      <th>4</th>\n      <td>1</td>\n      <td>0.584230</td>\n      <td>Shuckle</td>\n      <td>8.8</td>\n      <td>1.000000</td>\n      <td>0.584230</td>\n    </tr>\n    <tr>\n      <th>5</th>\n      <td>5</td>\n      <td>0.060231</td>\n      <td>Togepi</td>\n      <td>11.0</td>\n      <td>2.236068</td>\n      <td>0.060231</td>\n    </tr>\n    <tr>\n      <th>6</th>\n      <td>4</td>\n      <td>0.390357</td>\n      <td>Pelipper</td>\n      <td>13.2</td>\n      <td>2.000000</td>\n      <td>0.390357</td>\n    </tr>\n    <tr>\n      <th>7</th>\n      <td>3</td>\n      <td>0.099852</td>\n      <td>Luvdisc</td>\n      <td>15.4</td>\n      <td>1.732051</td>\n      <td>0.099852</td>\n    </tr>\n    <tr>\n      <th>8</th>\n      <td>5</td>\n      <td>0.268602</td>\n      <td>Meltan</td>\n      <td>17.6</td>\n      <td>2.236068</td>\n      <td>0.268602</td>\n    </tr>\n    <tr>\n      <th>9</th>\n      <td>7</td>\n      <td>0.042504</td>\n      <td>Clauncher</td>\n      <td>19.8</td>\n      <td>2.645751</td>\n      <td>0.042504</td>\n    </tr>\n    <tr>\n      <th>10</th>\n      <td>2</td>\n      <td>0.797824</td>\n      <td>Nidorina</td>\n      <td>22.0</td>\n      <td>1.414214</td>\n      <td>0.797824</td>\n    </tr>\n    <tr>\n      <th>11</th>\n      <td>3</td>\n      <td>0.499073</td>\n      <td>Cacturne</td>\n      <td>24.2</td>\n      <td>1.732051</td>\n      <td>0.499073</td>\n    </tr>\n    <tr>\n      <th>12</th>\n      <td>6</td>\n      <td>0.214219</td>\n      <td>Marowak</td>\n      <td>26.4</td>\n      <td>2.449490</td>\n      <td>0.214219</td>\n    </tr>\n    <tr>\n      <th>13</th>\n      <td>6</td>\n      <td>0.775194</td>\n      <td>Stoutland</td>\n      <td>28.6</td>\n      <td>2.449490</td>\n      <td>0.775194</td>\n    </tr>\n    <tr>\n      <th>14</th>\n      <td>8</td>\n      <td>0.256373</td>\n      <td>Primeape</td>\n      <td>30.8</td>\n      <td>2.828427</td>\n      <td>0.256373</td>\n    </tr>\n    <tr>\n      <th>15</th>\n      <td>6</td>\n      <td>0.160632</td>\n      <td>Blitzle</td>\n      <td>33.0</td>\n      <td>2.449490</td>\n      <td>0.160632</td>\n    </tr>\n    <tr>\n      <th>16</th>\n      <td>6</td>\n      <td>0.082170</td>\n      <td>Pignite</td>\n      <td>35.2</td>\n      <td>2.449490</td>\n      <td>0.082170</td>\n    </tr>\n    <tr>\n      <th>17</th>\n      <td>7</td>\n      <td>0.545433</td>\n      <td>Rotom</td>\n      <td>37.4</td>\n      <td>2.645751</td>\n      <td>0.545433</td>\n    </tr>\n    <tr>\n      <th>18</th>\n      <td>4</td>\n      <td>0.356487</td>\n      <td>Froakie</td>\n      <td>39.6</td>\n      <td>2.000000</td>\n      <td>0.356487</td>\n    </tr>\n    <tr>\n      <th>19</th>\n      <td>5</td>\n      <td>0.131199</td>\n      <td>Porygon2</td>\n      <td>41.8</td>\n      <td>2.236068</td>\n      <td>0.131199</td>\n    </tr>\n  </tbody>\n</table>\n</div>"
     },
     "execution_count": 183,
     "metadata": {},
     "output_type": "execute_result"
    }
   ],
   "source": [
    "#  Add Columns\n",
    "# nuova colonna con aggiunta\n",
    "import math\n",
    "import random\n",
    "random = random.randint(1, 10)\n",
    "\n",
    "simple_df['new_col'] = [(int(i))*2.2 for i in range(len(simple_df))]\n",
    "simple_df['new_col_2'] = simple_df[simple_df.columns[0]].apply(lambda x: math.sqrt(x))\n",
    "simple_df['new_col_3'] = simple_df[simple_df.columns[1]].apply(lambda x: x*random)\n",
    "simple_df"
   ],
   "metadata": {
    "collapsed": false
   }
  },
  {
   "cell_type": "code",
   "execution_count": 141,
   "outputs": [],
   "source": [
    "df = poke_go\n",
    "df['Type'] = df['TYP1'] + ','+ df['TYP2']\n",
    "poke_go =df"
   ],
   "metadata": {
    "collapsed": false
   }
  },
  {
   "cell_type": "markdown",
   "source": [
    "# Data Visualization"
   ],
   "metadata": {
    "collapsed": false
   }
  },
  {
   "cell_type": "code",
   "execution_count": 113,
   "outputs": [
    {
     "name": "stdout",
     "output_type": "stream",
     "text": [
      "Column 'name' does not exist in the DataFrame.\n",
      "Column 'city' does not exist in the DataFrame.\n"
     ]
    },
    {
     "data": {
      "text/plain": "<Figure size 640x480 with 1 Axes>",
      "image/png": "[encoded data removed]"
     },
     "metadata": {},
     "output_type": "display_data"
    },
    {
     "data": {
      "text/plain": "<Figure size 640x480 with 1 Axes>",
      "image/png": "[encoded data removed]"
     },
     "metadata": {},
     "output_type": "display_data"
    }
   ],
   "source": [
    "import pandas as pd\n",
    "import matplotlib.pyplot as plt\n",
    "\n",
    "# Create a sample DataFrame\n",
    "data = {\n",
    "    'name': ['John', 'Alice', 'Bob', 'Alice'],\n",
    "    'age': [25, 30, 35, 27],\n",
    "    'salary': [5000, 6000, 5500, 7000],\n",
    "    'city': ['New York', 'Chicago', 'New York', 'Chicago']\n",
    "}\n",
    "df = pd.DataFrame(data)\n",
    "# Perform groupby and describe\n",
    "grouped_data = df.groupby(['name']).describe()\n",
    "\n",
    "# Visualize string columns\n",
    "string_columns = df.select_dtypes(include=['object']).columns\n",
    "for column in string_columns:\n",
    "    if column in grouped_data.columns:\n",
    "        grouped_data[column].plot(kind='bar')\n",
    "        plt.title(f\"{column} distribution by city\")\n",
    "        plt.show()\n",
    "    else:\n",
    "        print(f\"Column '{column}' does not exist in the DataFrame.\")\n",
    "\n",
    "# Visualize integer columns\n",
    "int_columns = df.select_dtypes(include=['int', 'float']).columns\n",
    "for column in int_columns:\n",
    "    if column in grouped_data.columns:\n",
    "        grouped_data[column].boxplot()\n",
    "        plt.title(f\"{column} distribution by city\")\n",
    "        plt.show()\n",
    "    else:\n",
    "        print(f\"Column '{column}' does not exist in the DataFrame.\")"
   ],
   "metadata": {
    "collapsed": false
   }
  },
  {
   "cell_type": "code",
   "execution_count": 74,
   "outputs": [],
   "source": [
    "import seaborn as sns\n",
    "import pandas as pd\n",
    "\n",
    "\n",
    "import matplotlib.pyplot as plt\n",
    "plt.show()"
   ],
   "metadata": {
    "collapsed": false
   }
  },
  {
   "cell_type": "code",
   "execution_count": 81,
   "outputs": [
    {
     "data": {
      "text/plain": "       # NAME_ENGLISH NAME_GERMAN    NAME_FRENCH   NAME_JAPAN    NAME_KOREAN  \\\n0      1    Bulbasaur     Bisasam     Bulbizarre  Fushigidane    Isanghaessi   \n1      2      Ivysaur   Bisaknosp     Herbizarre   Fushigisou    Isanghaepul   \n2      3     Venusaur    Bisaflor     Florizarre  Fushigibana   Isanghaekkot   \n3      4   Charmander    Glumanda      Salamèche     Hitokage          Pairi   \n4      5   Charmeleon     Glutexo      Reptincel      Lizardo        Rijadeu   \n..   ...          ...         ...            ...          ...            ...   \n837  805    Stakataka    Muramura       Ama-Ama   Tundetunde   Chagogchagog    \n838  806  Blacephalon   Kopplosio  Pierroteknik     Zugadoon       Dupapang    \n839  807      Zeraora     Zeraora       Zeraora      Zeraora        Jeraora    \n840  808       Meltan      Meltan        Meltan      Merutan         Meltan    \n841  809     Melmetal    Melmetal       Melmetal  Merumetaru       Melmetal    \n\n         TYP1    TYP2  GENERATION  CANDY  BUDDY_DISTANCE  MAX_HP  MAX_ATT  \\\n0       Grass  Poison         1.0   25.0             3.0   128.0    118.0   \n1       Grass  Poison         1.0  100.0             3.0   155.0    151.0   \n2       Grass  Poison         1.0    NaN             3.0   190.0    198.0   \n3        Fire     NaN         1.0   25.0             3.0   118.0    116.0   \n4        Fire     NaN         1.0  100.0             3.0   151.0    158.0   \n..        ...     ...         ...    ...             ...     ...      ...   \n837      Rock   Steel         7.0    NaN             NaN     NaN      NaN   \n838      Fire   Ghost         7.0    NaN             NaN     NaN      NaN   \n839  Electric     NaN         7.0    NaN             NaN     NaN      NaN   \n840     Steel     NaN         7.0  400.0            20.0   130.0    112.0   \n841     Steel     NaN         7.0    NaN            20.0   264.0    231.0   \n\n     MAX_DEF  MAX_CP CATCH_RATE ESCAPE_RATE SHINY       ICON_PATH  \\\n0      111.0  1115.0    20,00 %     10,00 %   Yes  ./icon/001.png   \n1      143.0  1699.0    10,00 %      7,00 %   Yes  ./icon/002.png   \n2      189.0  2720.0     5,00 %      5,00 %   Yes  ./icon/003.png   \n3       93.0   980.0    20,00 %     10,00 %   Yes  ./icon/004.png   \n4      126.0  1653.0    10,00 %      7,00 %   Yes  ./icon/005.png   \n..       ...     ...        ...         ...   ...             ...   \n837      NaN     NaN        NaN         NaN   NaN  ./icon/805.png   \n838      NaN     NaN        NaN         NaN   NaN  ./icon/806.png   \n839      NaN     NaN        NaN         NaN   NaN  ./icon/807.png   \n840    113.0  1080.0    30,00 %         NaN    No  ./icon/808.png   \n841    213.0  3875.0    30,00 %         NaN    No  ./icon/809.png   \n\n           SPRITE_PATH  \n0    ./sprites/001.png  \n1    ./sprites/002.png  \n2    ./sprites/003.png  \n3    ./sprites/004.png  \n4    ./sprites/005.png  \n..                 ...  \n837                NaN  \n838                NaN  \n839                NaN  \n840  ./sprites/808.png  \n841  ./sprites/809.png  \n\n[842 rows x 20 columns]",
      "text/html": "<div>\n<style scoped>\n    .dataframe tbody tr th:only-of-type {\n        vertical-align: middle;\n    }\n\n    .dataframe tbody tr th {\n        vertical-align: top;\n    }\n\n    .dataframe thead th {\n        text-align: right;\n    }\n</style>\n<table border=\"1\" class=\"dataframe\">\n  <thead>\n    <tr style=\"text-align: right;\">\n      <th></th>\n      <th>#</th>\n      <th>NAME_ENGLISH</th>\n      <th>NAME_GERMAN</th>\n      <th>NAME_FRENCH</th>\n      <th>NAME_JAPAN</th>\n      <th>NAME_KOREAN</th>\n      <th>TYP1</th>\n      <th>TYP2</th>\n      <th>GENERATION</th>\n      <th>CANDY</th>\n      <th>BUDDY_DISTANCE</th>\n      <th>MAX_HP</th>\n      <th>MAX_ATT</th>\n      <th>MAX_DEF</th>\n      <th>MAX_CP</th>\n      <th>CATCH_RATE</th>\n      <th>ESCAPE_RATE</th>\n      <th>SHINY</th>\n      <th>ICON_PATH</th>\n      <th>SPRITE_PATH</th>\n    </tr>\n  </thead>\n  <tbody>\n    <tr>\n      <th>0</th>\n      <td>1</td>\n      <td>Bulbasaur</td>\n      <td>Bisasam</td>\n      <td>Bulbizarre</td>\n      <td>Fushigidane</td>\n      <td>Isanghaessi</td>\n      <td>Grass</td>\n      <td>Poison</td>\n      <td>1.0</td>\n      <td>25.0</td>\n      <td>3.0</td>\n      <td>128.0</td>\n      <td>118.0</td>\n      <td>111.0</td>\n      <td>1115.0</td>\n      <td>20,00 %</td>\n      <td>10,00 %</td>\n      <td>Yes</td>\n      <td>./icon/001.png</td>\n      <td>./sprites/001.png</td>\n    </tr>\n    <tr>\n      <th>1</th>\n      <td>2</td>\n      <td>Ivysaur</td>\n      <td>Bisaknosp</td>\n      <td>Herbizarre</td>\n      <td>Fushigisou</td>\n      <td>Isanghaepul</td>\n      <td>Grass</td>\n      <td>Poison</td>\n      <td>1.0</td>\n      <td>100.0</td>\n      <td>3.0</td>\n      <td>155.0</td>\n      <td>151.0</td>\n      <td>143.0</td>\n      <td>1699.0</td>\n      <td>10,00 %</td>\n      <td>7,00 %</td>\n      <td>Yes</td>\n      <td>./icon/002.png</td>\n      <td>./sprites/002.png</td>\n    </tr>\n    <tr>\n      <th>2</th>\n      <td>3</td>\n      <td>Venusaur</td>\n      <td>Bisaflor</td>\n      <td>Florizarre</td>\n      <td>Fushigibana</td>\n      <td>Isanghaekkot</td>\n      <td>Grass</td>\n      <td>Poison</td>\n      <td>1.0</td>\n      <td>NaN</td>\n      <td>3.0</td>\n      <td>190.0</td>\n      <td>198.0</td>\n      <td>189.0</td>\n      <td>2720.0</td>\n      <td>5,00 %</td>\n      <td>5,00 %</td>\n      <td>Yes</td>\n      <td>./icon/003.png</td>\n      <td>./sprites/003.png</td>\n    </tr>\n    <tr>\n      <th>3</th>\n      <td>4</td>\n      <td>Charmander</td>\n      <td>Glumanda</td>\n      <td>Salamèche</td>\n      <td>Hitokage</td>\n      <td>Pairi</td>\n      <td>Fire</td>\n      <td>NaN</td>\n      <td>1.0</td>\n      <td>25.0</td>\n      <td>3.0</td>\n      <td>118.0</td>\n      <td>116.0</td>\n      <td>93.0</td>\n      <td>980.0</td>\n      <td>20,00 %</td>\n      <td>10,00 %</td>\n      <td>Yes</td>\n      <td>./icon/004.png</td>\n      <td>./sprites/004.png</td>\n    </tr>\n    <tr>\n      <th>4</th>\n      <td>5</td>\n      <td>Charmeleon</td>\n      <td>Glutexo</td>\n      <td>Reptincel</td>\n      <td>Lizardo</td>\n      <td>Rijadeu</td>\n      <td>Fire</td>\n      <td>NaN</td>\n      <td>1.0</td>\n      <td>100.0</td>\n      <td>3.0</td>\n      <td>151.0</td>\n      <td>158.0</td>\n      <td>126.0</td>\n      <td>1653.0</td>\n      <td>10,00 %</td>\n      <td>7,00 %</td>\n      <td>Yes</td>\n      <td>./icon/005.png</td>\n      <td>./sprites/005.png</td>\n    </tr>\n    <tr>\n      <th>...</th>\n      <td>...</td>\n      <td>...</td>\n      <td>...</td>\n      <td>...</td>\n      <td>...</td>\n      <td>...</td>\n      <td>...</td>\n      <td>...</td>\n      <td>...</td>\n      <td>...</td>\n      <td>...</td>\n      <td>...</td>\n      <td>...</td>\n      <td>...</td>\n      <td>...</td>\n      <td>...</td>\n      <td>...</td>\n      <td>...</td>\n      <td>...</td>\n      <td>...</td>\n    </tr>\n    <tr>\n      <th>837</th>\n      <td>805</td>\n      <td>Stakataka</td>\n      <td>Muramura</td>\n      <td>Ama-Ama</td>\n      <td>Tundetunde</td>\n      <td>Chagogchagog</td>\n      <td>Rock</td>\n      <td>Steel</td>\n      <td>7.0</td>\n      <td>NaN</td>\n      <td>NaN</td>\n      <td>NaN</td>\n      <td>NaN</td>\n      <td>NaN</td>\n      <td>NaN</td>\n      <td>NaN</td>\n      <td>NaN</td>\n      <td>NaN</td>\n      <td>./icon/805.png</td>\n      <td>NaN</td>\n    </tr>\n    <tr>\n      <th>838</th>\n      <td>806</td>\n      <td>Blacephalon</td>\n      <td>Kopplosio</td>\n      <td>Pierroteknik</td>\n      <td>Zugadoon</td>\n      <td>Dupapang</td>\n      <td>Fire</td>\n      <td>Ghost</td>\n      <td>7.0</td>\n      <td>NaN</td>\n      <td>NaN</td>\n      <td>NaN</td>\n      <td>NaN</td>\n      <td>NaN</td>\n      <td>NaN</td>\n      <td>NaN</td>\n      <td>NaN</td>\n      <td>NaN</td>\n      <td>./icon/806.png</td>\n      <td>NaN</td>\n    </tr>\n    <tr>\n      <th>839</th>\n      <td>807</td>\n      <td>Zeraora</td>\n      <td>Zeraora</td>\n      <td>Zeraora</td>\n      <td>Zeraora</td>\n      <td>Jeraora</td>\n      <td>Electric</td>\n      <td>NaN</td>\n      <td>7.0</td>\n      <td>NaN</td>\n      <td>NaN</td>\n      <td>NaN</td>\n      <td>NaN</td>\n      <td>NaN</td>\n      <td>NaN</td>\n      <td>NaN</td>\n      <td>NaN</td>\n      <td>NaN</td>\n      <td>./icon/807.png</td>\n      <td>NaN</td>\n    </tr>\n    <tr>\n      <th>840</th>\n      <td>808</td>\n      <td>Meltan</td>\n      <td>Meltan</td>\n      <td>Meltan</td>\n      <td>Merutan</td>\n      <td>Meltan</td>\n      <td>Steel</td>\n      <td>NaN</td>\n      <td>7.0</td>\n      <td>400.0</td>\n      <td>20.0</td>\n      <td>130.0</td>\n      <td>112.0</td>\n      <td>113.0</td>\n      <td>1080.0</td>\n      <td>30,00 %</td>\n      <td>NaN</td>\n      <td>No</td>\n      <td>./icon/808.png</td>\n      <td>./sprites/808.png</td>\n    </tr>\n    <tr>\n      <th>841</th>\n      <td>809</td>\n      <td>Melmetal</td>\n      <td>Melmetal</td>\n      <td>Melmetal</td>\n      <td>Merumetaru</td>\n      <td>Melmetal</td>\n      <td>Steel</td>\n      <td>NaN</td>\n      <td>7.0</td>\n      <td>NaN</td>\n      <td>20.0</td>\n      <td>264.0</td>\n      <td>231.0</td>\n      <td>213.0</td>\n      <td>3875.0</td>\n      <td>30,00 %</td>\n      <td>NaN</td>\n      <td>No</td>\n      <td>./icon/809.png</td>\n      <td>./sprites/809.png</td>\n    </tr>\n  </tbody>\n</table>\n<p>842 rows × 20 columns</p>\n</div>"
     },
     "execution_count": 81,
     "metadata": {},
     "output_type": "execute_result"
    }
   ],
   "source": [
    "poke_go"
   ],
   "metadata": {
    "collapsed": false
   }
  },
  {
   "cell_type": "code",
   "execution_count": 76,
   "outputs": [
    {
     "data": {
      "text/plain": "       TYP1_  GENERATION_count  GENERATION_mean  GENERATION_std  \\\n0        Bug              74.0         3.743243        1.916481   \n1       Dark              29.0         4.275862        1.411599   \n2     Dragon              27.0         4.296296        1.771892   \n3   Electric              40.0         3.550000        1.999359   \n4      Fairy              18.0         4.277778        2.191039   \n5   Fighting              29.0         3.862069        2.150152   \n6       Fire              53.0         3.698113        2.126616   \n7     Flying               3.0         5.666667        0.577350   \n8      Ghost              27.0         4.370370        1.842827   \n9      Grass              76.0         3.960526        1.989578   \n10    Ground              32.0         3.343750        1.824729   \n11       Ice              23.0         3.565217        1.502304   \n12    Normal             105.0         3.495238        1.937106   \n13    Poison              34.0         3.323529        2.344828   \n14   Psychic              53.0         3.849057        1.895300   \n15      Rock              46.0         3.869565        2.039703   \n16     Steel              26.0         4.423077        1.653435   \n17     Water             114.0         3.210526        1.869521   \n\n    GENERATION_min  GENERATION_25%  GENERATION_50%  GENERATION_75%  \\\n0              1.0            2.00             4.0             5.0   \n1              2.0            3.00             5.0             5.0   \n2              1.0            3.00             5.0             5.5   \n3              1.0            2.00             4.0             5.0   \n4              1.0            2.00             6.0             6.0   \n5              1.0            2.00             4.0             5.0   \n6              1.0            2.00             4.0             6.0   \n7              5.0            5.50             6.0             6.0   \n8              1.0            3.00             4.0             6.0   \n9              1.0            2.00             4.0             5.0   \n10             1.0            1.75             3.0             5.0   \n11             1.0            2.50             3.0             5.0   \n12             1.0            2.00             3.0             5.0   \n13             1.0            1.00             3.0             5.0   \n14             1.0            2.00             4.0             5.0   \n15             1.0            2.00             4.0             6.0   \n16             2.0            3.00             4.0             6.0   \n17             1.0            2.00             3.0             5.0   \n\n    GENERATION_max  CANDY_count  ...  MAX_DEF_75%  MAX_DEF_max  MAX_CP_count  \\\n0              7.0         19.0  ...       171.00        396.0          46.0   \n1              7.0          6.0  ...       148.00        240.0          16.0   \n2              7.0          6.0  ...       198.00        268.0          13.0   \n3              7.0         11.0  ...       182.75        219.0          32.0   \n4              7.0          5.0  ...       166.75        217.0           8.0   \n5              7.0          7.0  ...       155.50        207.0          15.0   \n6              7.0         15.0  ...       173.00        244.0          33.0   \n7              6.0          0.0  ...          NaN          NaN           0.0   \n8              7.0          7.0  ...       193.00        254.0          15.0   \n9              7.0         23.0  ...       166.75        219.0          46.0   \n10             7.0         12.0  ...       185.50        251.0          23.0   \n11             6.0          7.0  ...       180.25        356.0          20.0   \n12             7.0         31.0  ...       142.25        238.0          72.0   \n13             7.0         14.0  ...       158.25        202.0          26.0   \n14             7.0         10.0  ...       210.00        330.0          33.0   \n15             7.0         14.0  ...       198.00        356.0          30.0   \n16             7.0          6.0  ...       241.75        314.0          16.0   \n17             7.0         38.0  ...       180.25        256.0          84.0   \n\n    MAX_CP_mean   MAX_CP_std  MAX_CP_min  MAX_CP_25%  MAX_CP_50%  MAX_CP_75%  \\\n0   1398.282609   817.189918       401.0      556.25      1521.5     1841.25   \n1   1875.812500   870.101237       564.0     1287.25      1777.0     2368.75   \n2   2507.769231  1159.082622      1004.0     1780.00      1958.0     3644.00   \n3   2046.437500   842.764573       473.0     1324.75      2156.5     2579.00   \n4   1718.625000   970.115595       657.0     1034.00      1472.5     2465.75   \n5   1760.666667   869.355317       492.0     1079.00      2031.0     2454.00   \n6   2068.848485   918.758439       883.0     1323.00      1835.0     2889.00   \n7           NaN          NaN         NaN         NaN         NaN         NaN   \n8   2034.333333   898.998305       523.0     1282.00      2072.0     2501.50   \n9   1853.760870   822.478157       395.0     1127.50      1782.0     2425.75   \n10  1922.652174   988.765144       676.0     1149.00      1782.0     2575.00   \n11  1943.350000   863.914060       741.0     1241.75      1992.5     2567.75   \n12  1651.777778   928.128485       316.0      823.50      1611.0     2137.75   \n13  1705.307692   712.689204       667.0     1044.50      1632.5     2429.25   \n14  2171.545455   988.682143       436.0     1185.00      2228.0     3057.00   \n15  1998.266667   793.660091       831.0     1304.00      1897.0     2703.50   \n16  2217.625000  1073.099553       603.0     1421.00      2173.5     3025.50   \n17  1812.261905   848.083866       220.0     1099.25      1891.5     2449.25   \n\n    MAX_CP_max  \n0       3101.0  \n1       3739.0  \n2       3962.0  \n3       3527.0  \n4       3332.0  \n5       3056.0  \n6       3863.0  \n7          NaN  \n8       3683.0  \n9       3592.0  \n10      4074.0  \n11      3328.0  \n12      4548.0  \n13      2757.0  \n14      4178.0  \n15      3834.0  \n16      4038.0  \n17      4074.0  \n\n[18 rows x 57 columns]",
      "text/html": "<div>\n<style scoped>\n    .dataframe tbody tr th:only-of-type {\n        vertical-align: middle;\n    }\n\n    .dataframe tbody tr th {\n        vertical-align: top;\n    }\n\n    .dataframe thead th {\n        text-align: right;\n    }\n</style>\n<table border=\"1\" class=\"dataframe\">\n  <thead>\n    <tr style=\"text-align: right;\">\n      <th></th>\n      <th>TYP1_</th>\n      <th>GENERATION_count</th>\n      <th>GENERATION_mean</th>\n      <th>GENERATION_std</th>\n      <th>GENERATION_min</th>\n      <th>GENERATION_25%</th>\n      <th>GENERATION_50%</th>\n      <th>GENERATION_75%</th>\n      <th>GENERATION_max</th>\n      <th>CANDY_count</th>\n      <th>...</th>\n      <th>MAX_DEF_75%</th>\n      <th>MAX_DEF_max</th>\n      <th>MAX_CP_count</th>\n      <th>MAX_CP_mean</th>\n      <th>MAX_CP_std</th>\n      <th>MAX_CP_min</th>\n      <th>MAX_CP_25%</th>\n      <th>MAX_CP_50%</th>\n      <th>MAX_CP_75%</th>\n      <th>MAX_CP_max</th>\n    </tr>\n  </thead>\n  <tbody>\n    <tr>\n      <th>0</th>\n      <td>Bug</td>\n      <td>74.0</td>\n      <td>3.743243</td>\n      <td>1.916481</td>\n      <td>1.0</td>\n      <td>2.00</td>\n      <td>4.0</td>\n      <td>5.0</td>\n      <td>7.0</td>\n      <td>19.0</td>\n      <td>...</td>\n      <td>171.00</td>\n      <td>396.0</td>\n      <td>46.0</td>\n      <td>1398.282609</td>\n      <td>817.189918</td>\n      <td>401.0</td>\n      <td>556.25</td>\n      <td>1521.5</td>\n      <td>1841.25</td>\n      <td>3101.0</td>\n    </tr>\n    <tr>\n      <th>1</th>\n      <td>Dark</td>\n      <td>29.0</td>\n      <td>4.275862</td>\n      <td>1.411599</td>\n      <td>2.0</td>\n      <td>3.00</td>\n      <td>5.0</td>\n      <td>5.0</td>\n      <td>7.0</td>\n      <td>6.0</td>\n      <td>...</td>\n      <td>148.00</td>\n      <td>240.0</td>\n      <td>16.0</td>\n      <td>1875.812500</td>\n      <td>870.101237</td>\n      <td>564.0</td>\n      <td>1287.25</td>\n      <td>1777.0</td>\n      <td>2368.75</td>\n      <td>3739.0</td>\n    </tr>\n    <tr>\n      <th>2</th>\n      <td>Dragon</td>\n      <td>27.0</td>\n      <td>4.296296</td>\n      <td>1.771892</td>\n      <td>1.0</td>\n      <td>3.00</td>\n      <td>5.0</td>\n      <td>5.5</td>\n      <td>7.0</td>\n      <td>6.0</td>\n      <td>...</td>\n      <td>198.00</td>\n      <td>268.0</td>\n      <td>13.0</td>\n      <td>2507.769231</td>\n      <td>1159.082622</td>\n      <td>1004.0</td>\n      <td>1780.00</td>\n      <td>1958.0</td>\n      <td>3644.00</td>\n      <td>3962.0</td>\n    </tr>\n    <tr>\n      <th>3</th>\n      <td>Electric</td>\n      <td>40.0</td>\n      <td>3.550000</td>\n      <td>1.999359</td>\n      <td>1.0</td>\n      <td>2.00</td>\n      <td>4.0</td>\n      <td>5.0</td>\n      <td>7.0</td>\n      <td>11.0</td>\n      <td>...</td>\n      <td>182.75</td>\n      <td>219.0</td>\n      <td>32.0</td>\n      <td>2046.437500</td>\n      <td>842.764573</td>\n      <td>473.0</td>\n      <td>1324.75</td>\n      <td>2156.5</td>\n      <td>2579.00</td>\n      <td>3527.0</td>\n    </tr>\n    <tr>\n      <th>4</th>\n      <td>Fairy</td>\n      <td>18.0</td>\n      <td>4.277778</td>\n      <td>2.191039</td>\n      <td>1.0</td>\n      <td>2.00</td>\n      <td>6.0</td>\n      <td>6.0</td>\n      <td>7.0</td>\n      <td>5.0</td>\n      <td>...</td>\n      <td>166.75</td>\n      <td>217.0</td>\n      <td>8.0</td>\n      <td>1718.625000</td>\n      <td>970.115595</td>\n      <td>657.0</td>\n      <td>1034.00</td>\n      <td>1472.5</td>\n      <td>2465.75</td>\n      <td>3332.0</td>\n    </tr>\n    <tr>\n      <th>5</th>\n      <td>Fighting</td>\n      <td>29.0</td>\n      <td>3.862069</td>\n      <td>2.150152</td>\n      <td>1.0</td>\n      <td>2.00</td>\n      <td>4.0</td>\n      <td>5.0</td>\n      <td>7.0</td>\n      <td>7.0</td>\n      <td>...</td>\n      <td>155.50</td>\n      <td>207.0</td>\n      <td>15.0</td>\n      <td>1760.666667</td>\n      <td>869.355317</td>\n      <td>492.0</td>\n      <td>1079.00</td>\n      <td>2031.0</td>\n      <td>2454.00</td>\n      <td>3056.0</td>\n    </tr>\n    <tr>\n      <th>6</th>\n      <td>Fire</td>\n      <td>53.0</td>\n      <td>3.698113</td>\n      <td>2.126616</td>\n      <td>1.0</td>\n      <td>2.00</td>\n      <td>4.0</td>\n      <td>6.0</td>\n      <td>7.0</td>\n      <td>15.0</td>\n      <td>...</td>\n      <td>173.00</td>\n      <td>244.0</td>\n      <td>33.0</td>\n      <td>2068.848485</td>\n      <td>918.758439</td>\n      <td>883.0</td>\n      <td>1323.00</td>\n      <td>1835.0</td>\n      <td>2889.00</td>\n      <td>3863.0</td>\n    </tr>\n    <tr>\n      <th>7</th>\n      <td>Flying</td>\n      <td>3.0</td>\n      <td>5.666667</td>\n      <td>0.577350</td>\n      <td>5.0</td>\n      <td>5.50</td>\n      <td>6.0</td>\n      <td>6.0</td>\n      <td>6.0</td>\n      <td>0.0</td>\n      <td>...</td>\n      <td>NaN</td>\n      <td>NaN</td>\n      <td>0.0</td>\n      <td>NaN</td>\n      <td>NaN</td>\n      <td>NaN</td>\n      <td>NaN</td>\n      <td>NaN</td>\n      <td>NaN</td>\n      <td>NaN</td>\n    </tr>\n    <tr>\n      <th>8</th>\n      <td>Ghost</td>\n      <td>27.0</td>\n      <td>4.370370</td>\n      <td>1.842827</td>\n      <td>1.0</td>\n      <td>3.00</td>\n      <td>4.0</td>\n      <td>6.0</td>\n      <td>7.0</td>\n      <td>7.0</td>\n      <td>...</td>\n      <td>193.00</td>\n      <td>254.0</td>\n      <td>15.0</td>\n      <td>2034.333333</td>\n      <td>898.998305</td>\n      <td>523.0</td>\n      <td>1282.00</td>\n      <td>2072.0</td>\n      <td>2501.50</td>\n      <td>3683.0</td>\n    </tr>\n    <tr>\n      <th>9</th>\n      <td>Grass</td>\n      <td>76.0</td>\n      <td>3.960526</td>\n      <td>1.989578</td>\n      <td>1.0</td>\n      <td>2.00</td>\n      <td>4.0</td>\n      <td>5.0</td>\n      <td>7.0</td>\n      <td>23.0</td>\n      <td>...</td>\n      <td>166.75</td>\n      <td>219.0</td>\n      <td>46.0</td>\n      <td>1853.760870</td>\n      <td>822.478157</td>\n      <td>395.0</td>\n      <td>1127.50</td>\n      <td>1782.0</td>\n      <td>2425.75</td>\n      <td>3592.0</td>\n    </tr>\n    <tr>\n      <th>10</th>\n      <td>Ground</td>\n      <td>32.0</td>\n      <td>3.343750</td>\n      <td>1.824729</td>\n      <td>1.0</td>\n      <td>1.75</td>\n      <td>3.0</td>\n      <td>5.0</td>\n      <td>7.0</td>\n      <td>12.0</td>\n      <td>...</td>\n      <td>185.50</td>\n      <td>251.0</td>\n      <td>23.0</td>\n      <td>1922.652174</td>\n      <td>988.765144</td>\n      <td>676.0</td>\n      <td>1149.00</td>\n      <td>1782.0</td>\n      <td>2575.00</td>\n      <td>4074.0</td>\n    </tr>\n    <tr>\n      <th>11</th>\n      <td>Ice</td>\n      <td>23.0</td>\n      <td>3.565217</td>\n      <td>1.502304</td>\n      <td>1.0</td>\n      <td>2.50</td>\n      <td>3.0</td>\n      <td>5.0</td>\n      <td>6.0</td>\n      <td>7.0</td>\n      <td>...</td>\n      <td>180.25</td>\n      <td>356.0</td>\n      <td>20.0</td>\n      <td>1943.350000</td>\n      <td>863.914060</td>\n      <td>741.0</td>\n      <td>1241.75</td>\n      <td>1992.5</td>\n      <td>2567.75</td>\n      <td>3328.0</td>\n    </tr>\n    <tr>\n      <th>12</th>\n      <td>Normal</td>\n      <td>105.0</td>\n      <td>3.495238</td>\n      <td>1.937106</td>\n      <td>1.0</td>\n      <td>2.00</td>\n      <td>3.0</td>\n      <td>5.0</td>\n      <td>7.0</td>\n      <td>31.0</td>\n      <td>...</td>\n      <td>142.25</td>\n      <td>238.0</td>\n      <td>72.0</td>\n      <td>1651.777778</td>\n      <td>928.128485</td>\n      <td>316.0</td>\n      <td>823.50</td>\n      <td>1611.0</td>\n      <td>2137.75</td>\n      <td>4548.0</td>\n    </tr>\n    <tr>\n      <th>13</th>\n      <td>Poison</td>\n      <td>34.0</td>\n      <td>3.323529</td>\n      <td>2.344828</td>\n      <td>1.0</td>\n      <td>1.00</td>\n      <td>3.0</td>\n      <td>5.0</td>\n      <td>7.0</td>\n      <td>14.0</td>\n      <td>...</td>\n      <td>158.25</td>\n      <td>202.0</td>\n      <td>26.0</td>\n      <td>1705.307692</td>\n      <td>712.689204</td>\n      <td>667.0</td>\n      <td>1044.50</td>\n      <td>1632.5</td>\n      <td>2429.25</td>\n      <td>2757.0</td>\n    </tr>\n    <tr>\n      <th>14</th>\n      <td>Psychic</td>\n      <td>53.0</td>\n      <td>3.849057</td>\n      <td>1.895300</td>\n      <td>1.0</td>\n      <td>2.00</td>\n      <td>4.0</td>\n      <td>5.0</td>\n      <td>7.0</td>\n      <td>10.0</td>\n      <td>...</td>\n      <td>210.00</td>\n      <td>330.0</td>\n      <td>33.0</td>\n      <td>2171.545455</td>\n      <td>988.682143</td>\n      <td>436.0</td>\n      <td>1185.00</td>\n      <td>2228.0</td>\n      <td>3057.00</td>\n      <td>4178.0</td>\n    </tr>\n    <tr>\n      <th>15</th>\n      <td>Rock</td>\n      <td>46.0</td>\n      <td>3.869565</td>\n      <td>2.039703</td>\n      <td>1.0</td>\n      <td>2.00</td>\n      <td>4.0</td>\n      <td>6.0</td>\n      <td>7.0</td>\n      <td>14.0</td>\n      <td>...</td>\n      <td>198.00</td>\n      <td>356.0</td>\n      <td>30.0</td>\n      <td>1998.266667</td>\n      <td>793.660091</td>\n      <td>831.0</td>\n      <td>1304.00</td>\n      <td>1897.0</td>\n      <td>2703.50</td>\n      <td>3834.0</td>\n    </tr>\n    <tr>\n      <th>16</th>\n      <td>Steel</td>\n      <td>26.0</td>\n      <td>4.423077</td>\n      <td>1.653435</td>\n      <td>2.0</td>\n      <td>3.00</td>\n      <td>4.0</td>\n      <td>6.0</td>\n      <td>7.0</td>\n      <td>6.0</td>\n      <td>...</td>\n      <td>241.75</td>\n      <td>314.0</td>\n      <td>16.0</td>\n      <td>2217.625000</td>\n      <td>1073.099553</td>\n      <td>603.0</td>\n      <td>1421.00</td>\n      <td>2173.5</td>\n      <td>3025.50</td>\n      <td>4038.0</td>\n    </tr>\n    <tr>\n      <th>17</th>\n      <td>Water</td>\n      <td>114.0</td>\n      <td>3.210526</td>\n      <td>1.869521</td>\n      <td>1.0</td>\n      <td>2.00</td>\n      <td>3.0</td>\n      <td>5.0</td>\n      <td>7.0</td>\n      <td>38.0</td>\n      <td>...</td>\n      <td>180.25</td>\n      <td>256.0</td>\n      <td>84.0</td>\n      <td>1812.261905</td>\n      <td>848.083866</td>\n      <td>220.0</td>\n      <td>1099.25</td>\n      <td>1891.5</td>\n      <td>2449.25</td>\n      <td>4074.0</td>\n    </tr>\n  </tbody>\n</table>\n<p>18 rows × 57 columns</p>\n</div>"
     },
     "execution_count": 76,
     "metadata": {},
     "output_type": "execute_result"
    }
   ],
   "source": [
    "gr"
   ],
   "metadata": {
    "collapsed": false
   }
  },
  {
   "cell_type": "code",
   "execution_count": 78,
   "outputs": [
    {
     "data": {
      "text/plain": "<Figure size 640x480 with 1 Axes>",
      "image/png": "[encoded data removed]"
     },
     "metadata": {},
     "output_type": "display_data"
    }
   ],
   "source": [
    "import seaborn as sns\n",
    "import pandas as pd\n",
    "import matplotlib.pyplot as plt\n",
    "\n",
    "sns.kdeplot(data=gr, x=gr.columns[1])\n",
    "plt.show()"
   ],
   "metadata": {
    "collapsed": false
   }
  },
  {
   "cell_type": "markdown",
   "source": [
    "# Get pychatgpt"
   ],
   "metadata": {
    "collapsed": false
   }
  },
  {
   "cell_type": "markdown",
   "source": [
    "## other operations\n",
    "\n",
    "Ci sono molte operazioni che puoi eseguire sui DataFrame di Pandas. Ecco alcuni esempi:\n",
    "\n",
    "1. **Selezione dei dati**: Puoi selezionare dati specifici utilizzando il nome della colonna o condizioni specifiche.\n",
    "\n",
    "   ```python\n",
    "   df['colonna']  # seleziona una colonna\n",
    "   df[df['colonna'] > 0]  # seleziona righe dove 'colonna' è maggiore di 0\n",
    "   ```\n",
    "\n",
    "2. **Manipolazione dei dati**: Puoi modificare i tuoi dati in molti modi, come ad esempio aggiungere nuove colonne, modificare valori esistenti, ecc.\n",
    "\n",
    "   ```python\n",
    "   df['nuova_colonna'] = df['colonna1'] + df['colonna2']  # aggiunge una nuova colonna\n",
    "   df['colonna'] = df['colonna'].apply(lambda x: x*2)  # modifica i valori in 'colonna'\n",
    "   ```\n",
    "\n",
    "3. **Ordinamento**: Puoi ordinare i tuoi dati in base ai valori di una o più colonne.\n",
    "\n",
    "   ```python\n",
    "   df.sort_values(by='colonna')  # ordina in base a 'colonna'\n",
    "   ```\n",
    "\n",
    "4. **Grouping**: Puoi raggruppare i tuoi dati in base ai valori di una o più colonne e calcolare statistiche aggregate.\n",
    "\n",
    "   ```python\n",
    "   df.groupby('colonna').mean()  # calcola la media per ogni gruppo in 'colonna'\n",
    "   ```\n",
    "\n",
    "5. **Pivot**: Puoi pivotare i tuoi dati per creare una tabella pivot.\n",
    "\n",
    "   ```python\n",
    "   df.pivot_table(values='colonna1', index='colonna2', columns='colonna3')\n",
    "   ```\n",
    "\n",
    "6. **Join**: Oltre al merge, puoi anche unire DataFrame utilizzando `join`.\n",
    "\n",
    "   ```python\n",
    "   df1.join(df2, on='colonna_comune')\n",
    "   ```\n",
    "\n",
    "7. **Reshaping**: Puoi modificare la forma del tuo DataFrame utilizzando operazioni come `melt`, `pivot`, ecc.\n",
    "\n",
    "8. **Handling Missing Values**: Puoi gestire i valori mancanti utilizzando metodi come `dropna`, `fillna`, ecc.\n",
    "\n",
    "Questi sono solo alcuni esempi delle operazioni che puoi eseguire sui DataFrame di Pandas. Pandas è una libreria molto potente e flessibile che offre molte altre funzionalità."
   ],
   "metadata": {
    "collapsed": false
   }
  },
  {
   "cell_type": "code",
   "execution_count": 41,
   "outputs": [
    {
     "name": "stdout",
     "output_type": "stream",
     "text": [
      "File downloaded successfully. Saved as pychatgpt.py\n",
      "The Cosmic Holographic Principle is a concept in theoretical physics and cosmology that suggests that the information and structure of our entire universe may be encoded in two-dimensional surfaces, similar to a hologram. It proposes that our three-dimensional reality, including gravity and all the particles it contains, is actually a projection or a hologram of information encoded on the two-dimensional boundary of the universe.\n",
      "\n",
      "The idea originated from the study of black holes by physicist Jacob Bekenstein and was later developed by theoretical physicist Juan Maldacena and others. They proposed that the information contained within a black hole is proportional to the surface area of its event horizon rather than its volume, supporting the notion of a holographic representation of reality.\n",
      "\n",
      "According to the Cosmic Holographic Principle, the universe can be thought of as a three-dimensional projection of information stored on a two-dimensional surface at the edge of spacetime, often referred to as the \"cosmic horizon\" or the \"boundary of the universe.\" This boundary is analogous to the event horizon of a black hole and is sometimes called the \"holographic screen.\"\n",
      "\n",
      "The concept suggests that everything we observe and experience in our universe, including matter, energy, and the fundamental laws of physics, might be emergent properties arising from this underlying two-dimensional information. It implies a deep interconnectedness and fundamental unity of the cosmos, where each part of the universe contains information about the whole.\n",
      "\n",
      "The Cosmic Holographic Principle has far-reaching implications for our understanding of the nature of reality and has sparked considerable research and debate in the field of theoretical physics. It potentially offers insights into the nature of gravity, quantum mechanics, and the fundamental origins of the universe. However, it should be noted that the principle is still highly theoretical and has yet to be fully proven or incorporated into a complete scientific framework.\n",
      "prompt tokens: 719\n"
     ]
    }
   ],
   "source": [
    "# get & import pychatgpt (openai based module)\n",
    "if simple_bool('Do you have an openai API-key?'):\n",
    "    # Get pychatgpt at: https://github.com/johndef64/pychatgpt.git\n",
    "    url=\"https://raw.githubusercontent.com/johndef64/pychatgpt/main/pychatgpt.py\"\n",
    "    Downloader.get_gitfile(url)\n",
    "\n",
    "    import pychatgpt as op\n",
    "    # Example usage\n",
    "    message = \"Describe the Cosmic Holographic Principle\"\n",
    "    response = op.send_message_gpt(message, model='gpt-4')\n",
    "\n",
    "else:\n",
    "    print('get your api-key at https://platform.openai.com/account/api-keys\\n'\n",
    "          'or simply use web playground at https://platform.openai.com/playground?model=gpt-3.5-turbo-16k')"
   ],
   "metadata": {
    "collapsed": false
   }
  },
  {
   "cell_type": "code",
   "execution_count": 43,
   "outputs": [
    {
     "name": "stdout",
     "output_type": "stream",
     "text": [
      "Sure, if you have two dataframes in pandas, you can use the merge() function to merge them based on a common column. Below is a sample function that accept the two dataframe and column names as input and performs the merging operation.\n",
      "\n",
      "```Python\n",
      "import pandas as pd\n",
      "\n",
      "def merge_dataframes(df1, df2, column1, column2):\n",
      "    merged_df = pd.merge(df1, df2, left_on=column1, right_on=column2, how='outer')\n",
      "    return merged_df\n",
      "```\n",
      "You can use this function to merge two dataframes. You just need to pass two dataframes and the column names you want to merge on as arguments.\n",
      "\n",
      "The 'how' parameter can take the values 'inner', 'outer', 'left', or 'right'. 'outer' returns all records when there is a match in either df1 or df2. 'inner' returns only the records where there is a match in both dfs. 'left' (or 'right') returns all the records from df1 (or df2) and the matched records from df2 (or df1), filling with NaNs where there is no match.\n",
      "\n",
      "Please remember to replace 'df1', 'df2', 'column1', and 'column2' with your actual dataframe names and column names you would like to merge on.\n",
      "prompt tokens: 1022\n"
     ]
    }
   ],
   "source": [
    "import pychatgpt as op\n",
    "\n",
    "op.send_message_gpt('''\n",
    "write a function in python optimized for the merging of two dataframe, also on different columns, in pandas\n",
    "\n",
    "''', model='gpt-4')"
   ],
   "metadata": {
    "collapsed": false
   }
  },
  {
   "cell_type": "code",
   "execution_count": 43,
   "outputs": [],
   "source": [],
   "metadata": {
    "collapsed": false
   }
  },
  {
   "cell_type": "markdown",
   "source": [
    "# open with notepad, subprocess"
   ],
   "metadata": {
    "collapsed": false
   }
  },
  {
   "cell_type": "code",
   "execution_count": 44,
   "outputs": [],
   "source": [
    "import subprocess\n",
    "\n",
    "def open_in_notepadpp(file_path):\n",
    "    notepadpp_path = r\"C:\\Program Files\\Notepad++\\notepad++.exe\"  # Path to Notepad++ executable\n",
    "    subprocess.Popen([notepadpp_path, file_path])\n",
    "\n",
    "# Usage\n",
    "file_path = r\"conversation_log.txt\"  # Replace with the actual file path\n",
    "open_in_notepadpp(file_path)"
   ],
   "metadata": {
    "collapsed": false
   }
  },
  {
   "cell_type": "markdown",
   "source": [
    "# Prompt for keyword-mesh"
   ],
   "metadata": {
    "collapsed": false
   }
  },
  {
   "cell_type": "code",
   "execution_count": null,
   "outputs": [],
   "source": [
    "# Define Biomedical topics\n",
    "nutritional_topic = [['diseases and disorders realted to nutrition and diet ', 'diet, food consuption, eating behaviour and nutrition']]\n",
    "infective_topic = [['infective agents, bacteria, virus and protozoan','infective diseases']]\n",
    "reproductive_topic = [['reproductive system physiology','reproductive system pathology', 'Assisted reproductive technology']]\n",
    "female_infertility_topic = [['female infertility, genetic imprinting and maternal effect']]\n",
    "special_issue = [['Diagnosis and Therapies for Genetic Diseases']]\n",
    "\n",
    "nutritional_topics = [\n",
    "    ['Obesity, overweight and body weight control', 'compulsive eating behavior'],\n",
    "    ['cardiovascular diseases','physiological processes realted to cardiovascular diseases','lipid metabolism in the context of cardiovascular diseases'],\n",
    "    ['Diabetes Melitus Type II and metabolic syndrome'],\n",
    "    ['Vitamin metabolism and Vitamins recommended intake levels','Micronutrients metabolism and Micronutrient recommended intake levels', 'disease related to vitamins and micronutrients deficiency'],\n",
    "    ['eating behaviour and taste sensation'],\n",
    "    ['food intolerances'],\n",
    "    ['food allergies'],\n",
    "    ['diet-induced oxidative stress'],\n",
    "    ['metabolism of xenobiotics'],\n",
    "]\n",
    "chosen_topic = special_issue\n",
    "pd.Series(chosen_topic)"
   ],
   "metadata": {
    "collapsed": false
   }
  },
  {
   "cell_type": "code",
   "execution_count": null,
   "outputs": [],
   "source": [
    "# GPT prompts\n",
    "\n",
    "# parameters--------------------------------------\n",
    "object1 = 'Pubmed MeSH terms'\n",
    "object2 = 'Pubmed keywords'\n",
    "\n",
    "object= object1\n",
    "num_mesh = 100\n",
    "topics = chosen_topic\n",
    "topic_id = 0\n",
    "#-----------------------------------------------\n",
    "topic_01  = topics[topic_id][0]\n",
    "topic_02  = topics[topic_id][1] if len(topics[topic_id])>=2 else None\n",
    "topic_03  = topics[topic_id][2] if len(topics[topic_id])>=3 else None\n",
    "\n",
    "format = {'list': \". Create a python list format like this:\\n gpt_01 = [\\\"term1\\\",\\n \\\"term2\\\",\\n \\\"term3\\\",...]\",\n",
    "          'csv':  \". Create a CSV file like this:\\n gpt_terms,\\n \\\"term1\\\",\\n \\\"term2\\\",\\n \\\"term3\\\", ...\"}\n",
    "format = format['csv']\n",
    "\n",
    "prompt_01 = \"give me a comprehensive list of \"+str(num_mesh)+\" real \"+object+\" terms related to \"+ topic_01+format+\"\\n\"\n",
    "prompt_02 = \"give me a comprehensive list of \"+str(num_mesh)+\" real \"+object+\" terms related to \"+ topic_02 +format+\"\\n\" if len(topics[topic_id])>=2 else None\n",
    "prompt_03 = \"give me a comprehensive list of \"+str(num_mesh)+\" real \"+object+\" terms related to \"+ topic_03 +format+\"\\n\" if len(topics[topic_id])>=3 else None\n",
    "\n",
    "prompts = [prompt_01, prompt_02, prompt_03]\n",
    "# If you do not have an openai API key, paste these prompts at https://platform.openai.com/playground?model=gpt-3.5-turbo-16k\n",
    "\n",
    "import pyperclip\n",
    "pyperclip.copy(prompt_01)\n",
    "pyperclip.copy(prompt_01+prompt_02) if len(topics[topic_id])>=2 else None\n",
    "pyperclip.copy(prompt_01+prompt_02+prompt_03) if len(topics[topic_id])>=3 else None\n",
    "\n",
    "print('prompt_01:',prompt_01)"
   ],
   "metadata": {
    "collapsed": false
   }
  },
  {
   "cell_type": "code",
   "execution_count": null,
   "outputs": [],
   "source": [
    "# get GPT-terms\n",
    "import pychatgpt as op\n",
    "op.conversation_gpt =[]\n",
    "response = op.send_message_gpt(prompt_01, model='gpt-4', maxtoken=2000)\n",
    "#response = op.send_message_gpt('clearchat')\n",
    "\n",
    "print('''\\n\\nGet the GPT terms from 'conversation_log.txt'\n",
    "=> save them manually in csv format in \"ref-mesh-archive/gpt_terms/yourterms.csv\"''')"
   ],
   "metadata": {
    "collapsed": false
   }
  },
  {
   "cell_type": "code",
   "execution_count": null,
   "outputs": [],
   "source": [
    "file_path = 'special_issue_2.csv'\n",
    "content = '''gpt_terms\n",
    "\"Genetic Diseases Diagnosis\",\n",
    "\"Genetic Testing\",\n",
    "\"Molecular Diagnostics\",\n",
    "\"Genetic Screenings\",\n",
    "\"DNA Sequencing\",\n",
    "\"Genome Mapping\",\n",
    "\"Chromosomal Abnormalities\",\n",
    "\"Prenatal Diagnosis\",\n",
    "\"Newborn Screening\",\n",
    "\"Personalized Medicine\",\n",
    "\"Genetic Counseling\",\n",
    "\"Carrier Testing\",\n",
    "\"Genomic Medicine\",\n",
    "\"Pharmacogenetics\",\n",
    "\"Predictive Testing\",\n",
    "\"Presymptomatic Testing\",\n",
    "\"Biochemical Testing\",\n",
    "\"Genetic Therapies\",\n",
    "\"Gene Therapy\",\n",
    "\"Gene Editing\",\n",
    "\"CRISPR-Cas9\",\n",
    "\"Stem Cell Therapy\",\n",
    "\"RNA Therapy\",\n",
    "\"Genetic Surgery\",\n",
    "\"Molecular Therapy\",\n",
    "\"Enzyme Replacement Therapy\",\n",
    "\"Antisense Therapy\",\n",
    "\"Gene Silencing\",\n",
    "\"Genetic Vaccine\",\n",
    "\"Pharmacological Chaperones\"\n",
    "'''\n",
    "def write_to_file(file_path, content):\n",
    "    with open(file_path, 'w') as file:\n",
    "        file.write(content)\n",
    "\n",
    "write_to_file(file_path, content)"
   ],
   "metadata": {
    "collapsed": false
   }
  },
  {
   "cell_type": "code",
   "execution_count": null,
   "outputs": [],
   "source": [
    "op.send_message_gpt('how to say, if a apackahger is not instaled, intall it?')"
   ],
   "metadata": {
    "collapsed": false
   }
  },
  {
   "cell_type": "markdown",
   "source": [
    "# Get Zenodo Nbib Dataset (full)"
   ],
   "metadata": {
    "collapsed": false
   }
  },
  {
   "cell_type": "code",
   "execution_count": null,
   "outputs": [],
   "source": [
    "import os\n",
    "import io\n",
    "import sys\n",
    "import glob\n",
    "import zipfile\n",
    "import requests\n",
    "from datetime import datetime\n",
    "\n",
    "def simple_bool(message):\n",
    "    choose = input(message+\" (y/n): \").lower()\n",
    "    your_bool = choose in [\"y\", \"yes\",\"yea\",\"sure\"]\n",
    "    return your_bool\n",
    "\n",
    "def get_and_extract_zenodo(file, dir = os.getcwd(), ext = '.zip'):\n",
    "    url='https://zenodo.org/record/8205724/files/'+file+'.zip?download=1'\n",
    "    zip_file_name = file+ext\n",
    "    extracted_folder_name = dir\n",
    "    # Download the ZIP file\n",
    "    response = requests.get(url)\n",
    "    if response.status_code == 200:\n",
    "        # Extract the ZIP contents\n",
    "        with io.BytesIO(response.content) as zip_buffer:\n",
    "            with zipfile.ZipFile(zip_buffer, 'r') as zip_ref:\n",
    "                zip_ref.extractall(extracted_folder_name)\n",
    "        print(f\"ZIP file '{zip_file_name}' extracted to '{extracted_folder_name}' successfully.\")\n",
    "    else:\n",
    "        print(\"Failed to download the ZIP file.\")\n",
    "\n",
    "if simple_bool('Download nbib-data from Zenodo?\\n (careful! 5GB unpacked)'):\n",
    "    timea = datetime.now()\n",
    "    get_and_extract_zenodo('nbib_data')\n",
    "    print('Download and extraction time ',datetime.now()-timea)\n",
    "\n",
    "#set source dataset:-----------------------\n",
    "db_tag = 'pcg'\n",
    "db_name = 'grpm_db_' + db_tag\n",
    "db_path = 'grpm_dataset/'+db_name\n",
    "\n",
    "time1 = datetime.now()\n",
    "#import gene-fullnbib\n",
    "dummy_nbib = pd.read_csv(db_path+'/complete_nbibtable.csv', index_col=0)\n",
    "dummy_nbib['pubmed_id'] = dummy_nbib['pubmed_id'].astype(str)\n",
    "time2 = datetime.now()\n",
    "print('time import nbib: ', time2-time1)\n",
    "print(dummy_nbib.memory_usage().sum() / 1024 / 1024, 'MB')\n",
    "\n",
    "display(dummy_nbib)"
   ],
   "metadata": {
    "collapsed": false
   }
  },
  {
   "cell_type": "markdown",
   "source": [
    "# R in Python"
   ],
   "metadata": {
    "collapsed": false
   }
  },
  {
   "cell_type": "markdown",
   "source": [
    "You can run R code in a Jupyter notebook. You need to install the rpy2 package and load the R extension in Jupyter using the following steps:\n",
    "\n",
    "1. Install the rpy2 package using pip (Python's package installer). In a command line window run:\n",
    "   ```bash\n",
    "   pip install rpy2\n",
    "   ```\n",
    "\n",
    "2. Then, in your Jupyter notebook, load the rpy2 extension by adding this to a cell and running it:\n",
    "   ```python\n",
    "   %load_ext rpy2.ipython\n",
    "   ```\n",
    "\n",
    "3. Now you can use R in any cell by starting the cell with `%%R`. For example:\n",
    "   ```python\n",
    "   %%R\n",
    "   x <- seq(0, 2*pi, length.out=50)\n",
    "   y <- sin(x)\n",
    "   plot(x, y, main=\"y = sin(x)\")\n",
    "   ```\n",
    "\n",
    "Remember, the rpy2 package requires that R is installed on your machine and it relies on dynamic libraries that R uses, so be sure you have installed R and it is findable by rpy2."
   ],
   "metadata": {
    "collapsed": false
   }
  },
  {
   "cell_type": "code",
   "execution_count": 128,
   "outputs": [
    {
     "name": "stdout",
     "output_type": "stream",
     "text": [
      "Collecting rpy2\n",
      "  Downloading rpy2-3.5.14.tar.gz (219 kB)\n",
      "     ---------------------------------------- 0.0/219.3 kB ? eta -:--:--\n",
      "     -------------------------------------  215.0/219.3 kB 6.6 MB/s eta 0:00:01\n",
      "     -------------------------------------- 219.3/219.3 kB 4.4 MB/s eta 0:00:00\n",
      "  Installing build dependencies: started\n",
      "  Installing build dependencies: finished with status 'done'\n",
      "  Getting requirements to build wheel: started\n",
      "  Getting requirements to build wheel: finished with status 'done'\n",
      "  Preparing metadata (pyproject.toml): started\n",
      "  Preparing metadata (pyproject.toml): finished with status 'done'\n",
      "Requirement already satisfied: jinja2 in c:\\users\\giova\\.conda\\envs\\myenv01\\lib\\site-packages (from rpy2) (3.1.2)\n",
      "Collecting tzlocal\n",
      "  Downloading tzlocal-5.0.1-py3-none-any.whl (20 kB)\n",
      "Requirement already satisfied: cffi>=1.10.0 in c:\\users\\giova\\.conda\\envs\\myenv01\\lib\\site-packages (from rpy2) (1.15.1)\n",
      "Requirement already satisfied: packaging in c:\\users\\giova\\.conda\\envs\\myenv01\\lib\\site-packages (from rpy2) (23.0)\n",
      "Requirement already satisfied: pycparser in c:\\users\\giova\\.conda\\envs\\myenv01\\lib\\site-packages (from cffi>=1.10.0->rpy2) (2.21)\n",
      "Requirement already satisfied: MarkupSafe>=2.0 in c:\\users\\giova\\.conda\\envs\\myenv01\\lib\\site-packages (from jinja2->rpy2) (2.1.1)\n",
      "Collecting tzdata\n",
      "  Using cached tzdata-2023.3-py2.py3-none-any.whl (341 kB)\n",
      "Building wheels for collected packages: rpy2\n",
      "  Building wheel for rpy2 (pyproject.toml): started\n",
      "  Building wheel for rpy2 (pyproject.toml): finished with status 'done'\n",
      "  Created wheel for rpy2: filename=rpy2-3.5.14-py3-none-any.whl size=220698 sha256=4e3a3c2aad41071a0d37420d20a6d3501089a05f117717d390a964193833c182\n",
      "  Stored in directory: c:\\users\\giova\\appdata\\local\\pip\\cache\\wheels\\d4\\b5\\2f\\529c5de71addd73d8e3c51104721d9e084c97ed2ce1c69de2d\n",
      "Successfully built rpy2\n",
      "Installing collected packages: tzdata, tzlocal, rpy2\n",
      "Successfully installed rpy2-3.5.14 tzdata-2023.3 tzlocal-5.0.1\n"
     ]
    }
   ],
   "source": [
    "!pip install rpy2"
   ],
   "metadata": {
    "collapsed": false
   }
  },
  {
   "cell_type": "code",
   "execution_count": 2,
   "outputs": [
    {
     "name": "stderr",
     "output_type": "stream",
     "text": [
      "C:\\Users\\giova\\.conda\\envs\\myenv01\\lib\\site-packages\\rpy2\\robjects\\packages.py:367: UserWarning: The symbol 'quartz' is not in this R namespace/package.\n",
      "  warnings.warn(\n"
     ]
    }
   ],
   "source": [
    "%load_ext rpy2.ipython"
   ],
   "metadata": {
    "collapsed": false
   }
  },
  {
   "cell_type": "code",
   "execution_count": 3,
   "outputs": [
    {
     "data": {
      "image/png": "[encoded data removed]",
      "text/plain": "<IPython.core.display.Image object>"
     },
     "metadata": {},
     "output_type": "display_data"
    }
   ],
   "source": [
    "%%R\n",
    "x <- seq(0, 2*pi, length.out=50)\n",
    "y <- sin(x)\n",
    "plot(x, y, main=\"y = sin(x)\")"
   ],
   "metadata": {
    "collapsed": false
   }
  },
  {
   "cell_type": "markdown",
   "source": [
    "# Repo Links"
   ],
   "metadata": {
    "collapsed": false
   }
  },
  {
   "cell_type": "code",
   "execution_count": 97,
   "outputs": [],
   "source": [
    "# quick open in colab\n",
    "\n",
    "handle = \"https://colab.research.google.com/github/\"\n",
    "path = \"johndef64/pychatgpt/blob/main/pychatgpt_trial.ipynb\"\n",
    "path1 = \"spacetx/starfish/blob/master/notebooks/DARTFISH.ipynb\"\n",
    "import pyperclip\n",
    "pyperclip.copy(handle+path1)"
   ],
   "metadata": {
    "collapsed": false
   }
  },
  {
   "cell_type": "code",
   "execution_count": null,
   "outputs": [],
   "source": [],
   "metadata": {
    "collapsed": false
   }
  }
 ],
 "metadata": {
  "kernelspec": {
   "display_name": "Python 3",
   "language": "python",
   "name": "python3"
  },
  "language_info": {
   "codemirror_mode": {
    "name": "ipython",
    "version": 2
   },
   "file_extension": ".py",
   "mimetype": "text/x-python",
   "name": "python",
   "nbconvert_exporter": "python",
   "pygments_lexer": "ipython2",
   "version": "2.7.6"
  }
 },
 "nbformat": 4,
 "nbformat_minor": 0
}
